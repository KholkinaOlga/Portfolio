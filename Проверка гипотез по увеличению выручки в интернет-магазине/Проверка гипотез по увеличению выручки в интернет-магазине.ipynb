{
 "cells": [
  {
   "cell_type": "markdown",
   "metadata": {},
   "source": [
    "# Проверка гипотез по увеличению выручки в интернет-магазине\n",
    "\n",
    "## Описание проекта\n",
    "\n",
    "Представим, что мы — аналитик крупного интернет-магазина. Вместе с отделом маркетинга мы подготовили список гипотез для увеличения выручки.\n",
    "Нам надо приоритизировать гипотезы, запустить A/B-тест и проанализировать результаты. \n",
    "\n",
    "Нам даны три файла в формате csv: hypothesis.csv, orders.csv и visitors.csv.\n",
    "\n",
    "Наименования столбцов в датасете hypothesis.csv: \n",
    "* Hypothesis — краткое описание гипотезы;\n",
    "* Reach — охват пользователей по 10-балльной шкале;\n",
    "* Impact — влияние на пользователей по 10-балльной шкале;\n",
    "* Confidence — уверенность в гипотезе по 10-балльной шкале;\n",
    "* Efforts — затраты ресурсов на проверку гипотезы по 10-балльной шкале. Чем больше значение Efforts, тем дороже проверка гипотезы.\n",
    "\n",
    "Наименования столбцов в датасете orders.csv:\n",
    "* transactionId — идентификатор заказа;\n",
    "* visitorId — идентификатор пользователя, совершившего заказ;\n",
    "* date — дата, когда был совершён заказ;\n",
    "* revenue — выручка заказа;\n",
    "* group — группа A/B-теста, в которую попал заказ.\n",
    "\n",
    "Наименования столбцов в датасете visitors.csv:\n",
    "* date — дата;\n",
    "* group — группа A/B-теста;\n",
    "* visitors — количество пользователей в указанную дату в указанной группе A/B-теста."
   ]
  },
  {
   "cell_type": "markdown",
   "metadata": {},
   "source": [
    "## Чтение файлов и изучение общей информации о данных"
   ]
  },
  {
   "cell_type": "markdown",
   "metadata": {},
   "source": [
    "Для анализа у нас есть три датасета: 'hypothesis.csv', 'orders.csv' и 'visitors.csv'. Изучим данные."
   ]
  },
  {
   "cell_type": "code",
   "execution_count": 1,
   "metadata": {},
   "outputs": [],
   "source": [
    "# импортируем необходимые библиотеки\n",
    "import pandas as pd\n",
    "import numpy as np\n",
    "import matplotlib.pyplot as plt\n",
    "import seaborn as sns\n",
    "from scipy import stats as st\n",
    "import datetime as dt\n",
    "from pandas.plotting import register_matplotlib_converters\n",
    "import warnings\n",
    "# конвертеры, которые позволяют использовать типы pandas в matplotlib  \n",
    "register_matplotlib_converters()"
   ]
  },
  {
   "cell_type": "code",
   "execution_count": 2,
   "metadata": {},
   "outputs": [],
   "source": [
    "try:\n",
    "    hypothesis = pd.read_csv('hypothesis.csv', sep=',', decimal='.')\n",
    "    orders = pd.read_csv('orders.csv', sep=',', decimal='.')\n",
    "    visitors = pd.read_csv('visitors.csv', sep=',', decimal='.')\n",
    "except: \n",
    "    hypothesis = pd.read_csv('http://localhost:8890/edit/Downloads/hypothesis.csv', sep=',', decimal='.')\n",
    "    orders = pd.read_csv('http://localhost:8890/edit/Downloads/orders.csv', sep=',', decimal='.')\n",
    "    visitors = pd.read_csv('http://localhost:8890/edit/Downloads/visitors.csv', sep=',', decimal='.')"
   ]
  },
  {
   "cell_type": "code",
   "execution_count": 3,
   "metadata": {},
   "outputs": [
    {
     "data": {
      "text/html": [
       "<div>\n",
       "<style scoped>\n",
       "    .dataframe tbody tr th:only-of-type {\n",
       "        vertical-align: middle;\n",
       "    }\n",
       "\n",
       "    .dataframe tbody tr th {\n",
       "        vertical-align: top;\n",
       "    }\n",
       "\n",
       "    .dataframe thead th {\n",
       "        text-align: right;\n",
       "    }\n",
       "</style>\n",
       "<table border=\"1\" class=\"dataframe\">\n",
       "  <thead>\n",
       "    <tr style=\"text-align: right;\">\n",
       "      <th></th>\n",
       "      <th>Hypothesis</th>\n",
       "      <th>Reach</th>\n",
       "      <th>Impact</th>\n",
       "      <th>Confidence</th>\n",
       "      <th>Efforts</th>\n",
       "    </tr>\n",
       "  </thead>\n",
       "  <tbody>\n",
       "    <tr>\n",
       "      <th>0</th>\n",
       "      <td>Добавить два новых канала привлечения трафика, что позволит привлекать на 30% больше пользователей</td>\n",
       "      <td>3</td>\n",
       "      <td>10</td>\n",
       "      <td>8</td>\n",
       "      <td>6</td>\n",
       "    </tr>\n",
       "    <tr>\n",
       "      <th>1</th>\n",
       "      <td>Запустить собственную службу доставки, что сократит срок доставки заказов</td>\n",
       "      <td>2</td>\n",
       "      <td>5</td>\n",
       "      <td>4</td>\n",
       "      <td>10</td>\n",
       "    </tr>\n",
       "    <tr>\n",
       "      <th>2</th>\n",
       "      <td>Добавить блоки рекомендаций товаров на сайт интернет магазина, чтобы повысить конверсию и средний чек заказа</td>\n",
       "      <td>8</td>\n",
       "      <td>3</td>\n",
       "      <td>7</td>\n",
       "      <td>3</td>\n",
       "    </tr>\n",
       "    <tr>\n",
       "      <th>3</th>\n",
       "      <td>Изменить структура категорий, что увеличит конверсию, т.к. пользователи быстрее найдут нужный товар</td>\n",
       "      <td>8</td>\n",
       "      <td>3</td>\n",
       "      <td>3</td>\n",
       "      <td>8</td>\n",
       "    </tr>\n",
       "    <tr>\n",
       "      <th>4</th>\n",
       "      <td>Изменить цвет фона главной страницы, чтобы увеличить вовлеченность пользователей</td>\n",
       "      <td>3</td>\n",
       "      <td>1</td>\n",
       "      <td>1</td>\n",
       "      <td>1</td>\n",
       "    </tr>\n",
       "    <tr>\n",
       "      <th>5</th>\n",
       "      <td>Добавить страницу отзывов клиентов о магазине, что позволит увеличить количество заказов</td>\n",
       "      <td>3</td>\n",
       "      <td>2</td>\n",
       "      <td>2</td>\n",
       "      <td>3</td>\n",
       "    </tr>\n",
       "    <tr>\n",
       "      <th>6</th>\n",
       "      <td>Показать на главной странице баннеры с актуальными акциями и распродажами, чтобы увеличить конверсию</td>\n",
       "      <td>5</td>\n",
       "      <td>3</td>\n",
       "      <td>8</td>\n",
       "      <td>3</td>\n",
       "    </tr>\n",
       "    <tr>\n",
       "      <th>7</th>\n",
       "      <td>Добавить форму подписки на все основные страницы, чтобы собрать базу клиентов для email-рассылок</td>\n",
       "      <td>10</td>\n",
       "      <td>7</td>\n",
       "      <td>8</td>\n",
       "      <td>5</td>\n",
       "    </tr>\n",
       "    <tr>\n",
       "      <th>8</th>\n",
       "      <td>Запустить акцию, дающую скидку на товар в день рождения</td>\n",
       "      <td>1</td>\n",
       "      <td>9</td>\n",
       "      <td>9</td>\n",
       "      <td>5</td>\n",
       "    </tr>\n",
       "  </tbody>\n",
       "</table>\n",
       "</div>"
      ],
      "text/plain": [
       "                                                                                                     Hypothesis  \\\n",
       "0            Добавить два новых канала привлечения трафика, что позволит привлекать на 30% больше пользователей   \n",
       "1                                     Запустить собственную службу доставки, что сократит срок доставки заказов   \n",
       "2  Добавить блоки рекомендаций товаров на сайт интернет магазина, чтобы повысить конверсию и средний чек заказа   \n",
       "3           Изменить структура категорий, что увеличит конверсию, т.к. пользователи быстрее найдут нужный товар   \n",
       "4                              Изменить цвет фона главной страницы, чтобы увеличить вовлеченность пользователей   \n",
       "5                      Добавить страницу отзывов клиентов о магазине, что позволит увеличить количество заказов   \n",
       "6          Показать на главной странице баннеры с актуальными акциями и распродажами, чтобы увеличить конверсию   \n",
       "7              Добавить форму подписки на все основные страницы, чтобы собрать базу клиентов для email-рассылок   \n",
       "8                                                       Запустить акцию, дающую скидку на товар в день рождения   \n",
       "\n",
       "   Reach  Impact  Confidence  Efforts  \n",
       "0      3      10           8        6  \n",
       "1      2       5           4       10  \n",
       "2      8       3           7        3  \n",
       "3      8       3           3        8  \n",
       "4      3       1           1        1  \n",
       "5      3       2           2        3  \n",
       "6      5       3           8        3  \n",
       "7     10       7           8        5  \n",
       "8      1       9           9        5  "
      ]
     },
     "execution_count": 3,
     "metadata": {},
     "output_type": "execute_result"
    }
   ],
   "source": [
    "# уберем ограничения на количество символов в записи\n",
    "pd.set_option('display.max_colwidth', None)\n",
    "# выведем на экран датафрейм hypothesis\n",
    "hypothesis"
   ]
  },
  {
   "cell_type": "code",
   "execution_count": 4,
   "metadata": {},
   "outputs": [
    {
     "data": {
      "text/html": [
       "<div>\n",
       "<style scoped>\n",
       "    .dataframe tbody tr th:only-of-type {\n",
       "        vertical-align: middle;\n",
       "    }\n",
       "\n",
       "    .dataframe tbody tr th {\n",
       "        vertical-align: top;\n",
       "    }\n",
       "\n",
       "    .dataframe thead th {\n",
       "        text-align: right;\n",
       "    }\n",
       "</style>\n",
       "<table border=\"1\" class=\"dataframe\">\n",
       "  <thead>\n",
       "    <tr style=\"text-align: right;\">\n",
       "      <th></th>\n",
       "      <th>transactionId</th>\n",
       "      <th>visitorId</th>\n",
       "      <th>date</th>\n",
       "      <th>revenue</th>\n",
       "      <th>group</th>\n",
       "    </tr>\n",
       "  </thead>\n",
       "  <tbody>\n",
       "    <tr>\n",
       "      <th>0</th>\n",
       "      <td>3667963787</td>\n",
       "      <td>3312258926</td>\n",
       "      <td>2019-08-15</td>\n",
       "      <td>1650</td>\n",
       "      <td>B</td>\n",
       "    </tr>\n",
       "    <tr>\n",
       "      <th>1</th>\n",
       "      <td>2804400009</td>\n",
       "      <td>3642806036</td>\n",
       "      <td>2019-08-15</td>\n",
       "      <td>730</td>\n",
       "      <td>B</td>\n",
       "    </tr>\n",
       "    <tr>\n",
       "      <th>2</th>\n",
       "      <td>2961555356</td>\n",
       "      <td>4069496402</td>\n",
       "      <td>2019-08-15</td>\n",
       "      <td>400</td>\n",
       "      <td>A</td>\n",
       "    </tr>\n",
       "    <tr>\n",
       "      <th>3</th>\n",
       "      <td>3797467345</td>\n",
       "      <td>1196621759</td>\n",
       "      <td>2019-08-15</td>\n",
       "      <td>9759</td>\n",
       "      <td>B</td>\n",
       "    </tr>\n",
       "    <tr>\n",
       "      <th>4</th>\n",
       "      <td>2282983706</td>\n",
       "      <td>2322279887</td>\n",
       "      <td>2019-08-15</td>\n",
       "      <td>2308</td>\n",
       "      <td>B</td>\n",
       "    </tr>\n",
       "    <tr>\n",
       "      <th>5</th>\n",
       "      <td>182168103</td>\n",
       "      <td>935554773</td>\n",
       "      <td>2019-08-15</td>\n",
       "      <td>2210</td>\n",
       "      <td>B</td>\n",
       "    </tr>\n",
       "    <tr>\n",
       "      <th>6</th>\n",
       "      <td>398296753</td>\n",
       "      <td>2900797465</td>\n",
       "      <td>2019-08-15</td>\n",
       "      <td>1860</td>\n",
       "      <td>B</td>\n",
       "    </tr>\n",
       "    <tr>\n",
       "      <th>7</th>\n",
       "      <td>2626614568</td>\n",
       "      <td>78758296</td>\n",
       "      <td>2019-08-15</td>\n",
       "      <td>1044</td>\n",
       "      <td>A</td>\n",
       "    </tr>\n",
       "    <tr>\n",
       "      <th>8</th>\n",
       "      <td>1576988021</td>\n",
       "      <td>295230930</td>\n",
       "      <td>2019-08-15</td>\n",
       "      <td>13710</td>\n",
       "      <td>A</td>\n",
       "    </tr>\n",
       "    <tr>\n",
       "      <th>9</th>\n",
       "      <td>1506739906</td>\n",
       "      <td>1882260405</td>\n",
       "      <td>2019-08-15</td>\n",
       "      <td>1855</td>\n",
       "      <td>B</td>\n",
       "    </tr>\n",
       "  </tbody>\n",
       "</table>\n",
       "</div>"
      ],
      "text/plain": [
       "   transactionId   visitorId        date  revenue group\n",
       "0     3667963787  3312258926  2019-08-15     1650     B\n",
       "1     2804400009  3642806036  2019-08-15      730     B\n",
       "2     2961555356  4069496402  2019-08-15      400     A\n",
       "3     3797467345  1196621759  2019-08-15     9759     B\n",
       "4     2282983706  2322279887  2019-08-15     2308     B\n",
       "5      182168103   935554773  2019-08-15     2210     B\n",
       "6      398296753  2900797465  2019-08-15     1860     B\n",
       "7     2626614568    78758296  2019-08-15     1044     A\n",
       "8     1576988021   295230930  2019-08-15    13710     A\n",
       "9     1506739906  1882260405  2019-08-15     1855     B"
      ]
     },
     "execution_count": 4,
     "metadata": {},
     "output_type": "execute_result"
    }
   ],
   "source": [
    "# выведем на экран первые 10 строчек датафрейма orders\n",
    "orders.head(10)"
   ]
  },
  {
   "cell_type": "code",
   "execution_count": 5,
   "metadata": {},
   "outputs": [
    {
     "data": {
      "text/html": [
       "<div>\n",
       "<style scoped>\n",
       "    .dataframe tbody tr th:only-of-type {\n",
       "        vertical-align: middle;\n",
       "    }\n",
       "\n",
       "    .dataframe tbody tr th {\n",
       "        vertical-align: top;\n",
       "    }\n",
       "\n",
       "    .dataframe thead th {\n",
       "        text-align: right;\n",
       "    }\n",
       "</style>\n",
       "<table border=\"1\" class=\"dataframe\">\n",
       "  <thead>\n",
       "    <tr style=\"text-align: right;\">\n",
       "      <th></th>\n",
       "      <th>date</th>\n",
       "      <th>group</th>\n",
       "      <th>visitors</th>\n",
       "    </tr>\n",
       "  </thead>\n",
       "  <tbody>\n",
       "    <tr>\n",
       "      <th>0</th>\n",
       "      <td>2019-08-01</td>\n",
       "      <td>A</td>\n",
       "      <td>719</td>\n",
       "    </tr>\n",
       "    <tr>\n",
       "      <th>1</th>\n",
       "      <td>2019-08-02</td>\n",
       "      <td>A</td>\n",
       "      <td>619</td>\n",
       "    </tr>\n",
       "    <tr>\n",
       "      <th>2</th>\n",
       "      <td>2019-08-03</td>\n",
       "      <td>A</td>\n",
       "      <td>507</td>\n",
       "    </tr>\n",
       "    <tr>\n",
       "      <th>3</th>\n",
       "      <td>2019-08-04</td>\n",
       "      <td>A</td>\n",
       "      <td>717</td>\n",
       "    </tr>\n",
       "    <tr>\n",
       "      <th>4</th>\n",
       "      <td>2019-08-05</td>\n",
       "      <td>A</td>\n",
       "      <td>756</td>\n",
       "    </tr>\n",
       "    <tr>\n",
       "      <th>5</th>\n",
       "      <td>2019-08-06</td>\n",
       "      <td>A</td>\n",
       "      <td>667</td>\n",
       "    </tr>\n",
       "    <tr>\n",
       "      <th>6</th>\n",
       "      <td>2019-08-07</td>\n",
       "      <td>A</td>\n",
       "      <td>644</td>\n",
       "    </tr>\n",
       "    <tr>\n",
       "      <th>7</th>\n",
       "      <td>2019-08-08</td>\n",
       "      <td>A</td>\n",
       "      <td>610</td>\n",
       "    </tr>\n",
       "    <tr>\n",
       "      <th>8</th>\n",
       "      <td>2019-08-09</td>\n",
       "      <td>A</td>\n",
       "      <td>617</td>\n",
       "    </tr>\n",
       "    <tr>\n",
       "      <th>9</th>\n",
       "      <td>2019-08-10</td>\n",
       "      <td>A</td>\n",
       "      <td>406</td>\n",
       "    </tr>\n",
       "  </tbody>\n",
       "</table>\n",
       "</div>"
      ],
      "text/plain": [
       "         date group  visitors\n",
       "0  2019-08-01     A       719\n",
       "1  2019-08-02     A       619\n",
       "2  2019-08-03     A       507\n",
       "3  2019-08-04     A       717\n",
       "4  2019-08-05     A       756\n",
       "5  2019-08-06     A       667\n",
       "6  2019-08-07     A       644\n",
       "7  2019-08-08     A       610\n",
       "8  2019-08-09     A       617\n",
       "9  2019-08-10     A       406"
      ]
     },
     "execution_count": 5,
     "metadata": {},
     "output_type": "execute_result"
    }
   ],
   "source": [
    "# выведем на экран первые 10 строчек датафрейма visitors\n",
    "visitors.head(10)"
   ]
  },
  {
   "cell_type": "markdown",
   "metadata": {},
   "source": [
    "Посмотрим информацию о датафреймах 'hypothesis', 'orders' и 'visitors'."
   ]
  },
  {
   "cell_type": "code",
   "execution_count": 6,
   "metadata": {},
   "outputs": [
    {
     "name": "stdout",
     "output_type": "stream",
     "text": [
      "<class 'pandas.core.frame.DataFrame'>\n",
      "RangeIndex: 9 entries, 0 to 8\n",
      "Data columns (total 5 columns):\n",
      " #   Column      Non-Null Count  Dtype \n",
      "---  ------      --------------  ----- \n",
      " 0   Hypothesis  9 non-null      object\n",
      " 1   Reach       9 non-null      int64 \n",
      " 2   Impact      9 non-null      int64 \n",
      " 3   Confidence  9 non-null      int64 \n",
      " 4   Efforts     9 non-null      int64 \n",
      "dtypes: int64(4), object(1)\n",
      "memory usage: 488.0+ bytes\n"
     ]
    }
   ],
   "source": [
    "hypothesis.info()"
   ]
  },
  {
   "cell_type": "code",
   "execution_count": 7,
   "metadata": {},
   "outputs": [
    {
     "name": "stdout",
     "output_type": "stream",
     "text": [
      "<class 'pandas.core.frame.DataFrame'>\n",
      "RangeIndex: 1197 entries, 0 to 1196\n",
      "Data columns (total 5 columns):\n",
      " #   Column         Non-Null Count  Dtype \n",
      "---  ------         --------------  ----- \n",
      " 0   transactionId  1197 non-null   int64 \n",
      " 1   visitorId      1197 non-null   int64 \n",
      " 2   date           1197 non-null   object\n",
      " 3   revenue        1197 non-null   int64 \n",
      " 4   group          1197 non-null   object\n",
      "dtypes: int64(3), object(2)\n",
      "memory usage: 46.9+ KB\n"
     ]
    }
   ],
   "source": [
    "orders.info()"
   ]
  },
  {
   "cell_type": "code",
   "execution_count": 8,
   "metadata": {},
   "outputs": [
    {
     "name": "stdout",
     "output_type": "stream",
     "text": [
      "<class 'pandas.core.frame.DataFrame'>\n",
      "RangeIndex: 62 entries, 0 to 61\n",
      "Data columns (total 3 columns):\n",
      " #   Column    Non-Null Count  Dtype \n",
      "---  ------    --------------  ----- \n",
      " 0   date      62 non-null     object\n",
      " 1   group     62 non-null     object\n",
      " 2   visitors  62 non-null     int64 \n",
      "dtypes: int64(1), object(2)\n",
      "memory usage: 1.6+ KB\n"
     ]
    }
   ],
   "source": [
    "visitors.info()"
   ]
  },
  {
   "cell_type": "markdown",
   "metadata": {},
   "source": [
    "**Вывод**\n",
    "\n",
    "Мы загрузили данные о гипотезах, заказах и данные А/В-теста из CSV-файлов в переменные hypothesis, orders и visitors. Пропусков нет, необходимо преобразовать тип данных в столбцах 'date' в датафреймах 'orders' и 'visitors' во временной тип данных, привести все названия в датафреймах к нижнему регистру и проверить на наличие явных дубликатов."
   ]
  },
  {
   "cell_type": "markdown",
   "metadata": {},
   "source": [
    "## Предобработка данных"
   ]
  },
  {
   "cell_type": "markdown",
   "metadata": {},
   "source": [
    "Приведем все названия к нижнему регистру написания."
   ]
  },
  {
   "cell_type": "code",
   "execution_count": 9,
   "metadata": {},
   "outputs": [
    {
     "data": {
      "text/html": [
       "<div>\n",
       "<style scoped>\n",
       "    .dataframe tbody tr th:only-of-type {\n",
       "        vertical-align: middle;\n",
       "    }\n",
       "\n",
       "    .dataframe tbody tr th {\n",
       "        vertical-align: top;\n",
       "    }\n",
       "\n",
       "    .dataframe thead th {\n",
       "        text-align: right;\n",
       "    }\n",
       "</style>\n",
       "<table border=\"1\" class=\"dataframe\">\n",
       "  <thead>\n",
       "    <tr style=\"text-align: right;\">\n",
       "      <th></th>\n",
       "      <th>hypothesis</th>\n",
       "      <th>reach</th>\n",
       "      <th>impact</th>\n",
       "      <th>confidence</th>\n",
       "      <th>efforts</th>\n",
       "    </tr>\n",
       "  </thead>\n",
       "  <tbody>\n",
       "    <tr>\n",
       "      <th>0</th>\n",
       "      <td>Добавить два новых канала привлечения трафика, что позволит привлекать на 30% больше пользователей</td>\n",
       "      <td>3</td>\n",
       "      <td>10</td>\n",
       "      <td>8</td>\n",
       "      <td>6</td>\n",
       "    </tr>\n",
       "    <tr>\n",
       "      <th>1</th>\n",
       "      <td>Запустить собственную службу доставки, что сократит срок доставки заказов</td>\n",
       "      <td>2</td>\n",
       "      <td>5</td>\n",
       "      <td>4</td>\n",
       "      <td>10</td>\n",
       "    </tr>\n",
       "    <tr>\n",
       "      <th>2</th>\n",
       "      <td>Добавить блоки рекомендаций товаров на сайт интернет магазина, чтобы повысить конверсию и средний чек заказа</td>\n",
       "      <td>8</td>\n",
       "      <td>3</td>\n",
       "      <td>7</td>\n",
       "      <td>3</td>\n",
       "    </tr>\n",
       "    <tr>\n",
       "      <th>3</th>\n",
       "      <td>Изменить структура категорий, что увеличит конверсию, т.к. пользователи быстрее найдут нужный товар</td>\n",
       "      <td>8</td>\n",
       "      <td>3</td>\n",
       "      <td>3</td>\n",
       "      <td>8</td>\n",
       "    </tr>\n",
       "    <tr>\n",
       "      <th>4</th>\n",
       "      <td>Изменить цвет фона главной страницы, чтобы увеличить вовлеченность пользователей</td>\n",
       "      <td>3</td>\n",
       "      <td>1</td>\n",
       "      <td>1</td>\n",
       "      <td>1</td>\n",
       "    </tr>\n",
       "    <tr>\n",
       "      <th>5</th>\n",
       "      <td>Добавить страницу отзывов клиентов о магазине, что позволит увеличить количество заказов</td>\n",
       "      <td>3</td>\n",
       "      <td>2</td>\n",
       "      <td>2</td>\n",
       "      <td>3</td>\n",
       "    </tr>\n",
       "    <tr>\n",
       "      <th>6</th>\n",
       "      <td>Показать на главной странице баннеры с актуальными акциями и распродажами, чтобы увеличить конверсию</td>\n",
       "      <td>5</td>\n",
       "      <td>3</td>\n",
       "      <td>8</td>\n",
       "      <td>3</td>\n",
       "    </tr>\n",
       "    <tr>\n",
       "      <th>7</th>\n",
       "      <td>Добавить форму подписки на все основные страницы, чтобы собрать базу клиентов для email-рассылок</td>\n",
       "      <td>10</td>\n",
       "      <td>7</td>\n",
       "      <td>8</td>\n",
       "      <td>5</td>\n",
       "    </tr>\n",
       "    <tr>\n",
       "      <th>8</th>\n",
       "      <td>Запустить акцию, дающую скидку на товар в день рождения</td>\n",
       "      <td>1</td>\n",
       "      <td>9</td>\n",
       "      <td>9</td>\n",
       "      <td>5</td>\n",
       "    </tr>\n",
       "  </tbody>\n",
       "</table>\n",
       "</div>"
      ],
      "text/plain": [
       "                                                                                                     hypothesis  \\\n",
       "0            Добавить два новых канала привлечения трафика, что позволит привлекать на 30% больше пользователей   \n",
       "1                                     Запустить собственную службу доставки, что сократит срок доставки заказов   \n",
       "2  Добавить блоки рекомендаций товаров на сайт интернет магазина, чтобы повысить конверсию и средний чек заказа   \n",
       "3           Изменить структура категорий, что увеличит конверсию, т.к. пользователи быстрее найдут нужный товар   \n",
       "4                              Изменить цвет фона главной страницы, чтобы увеличить вовлеченность пользователей   \n",
       "5                      Добавить страницу отзывов клиентов о магазине, что позволит увеличить количество заказов   \n",
       "6          Показать на главной странице баннеры с актуальными акциями и распродажами, чтобы увеличить конверсию   \n",
       "7              Добавить форму подписки на все основные страницы, чтобы собрать базу клиентов для email-рассылок   \n",
       "8                                                       Запустить акцию, дающую скидку на товар в день рождения   \n",
       "\n",
       "   reach  impact  confidence  efforts  \n",
       "0      3      10           8        6  \n",
       "1      2       5           4       10  \n",
       "2      8       3           7        3  \n",
       "3      8       3           3        8  \n",
       "4      3       1           1        1  \n",
       "5      3       2           2        3  \n",
       "6      5       3           8        3  \n",
       "7     10       7           8        5  \n",
       "8      1       9           9        5  "
      ]
     },
     "execution_count": 9,
     "metadata": {},
     "output_type": "execute_result"
    }
   ],
   "source": [
    "hypothesis.columns = hypothesis.columns.str.lower()\n",
    "hypothesis"
   ]
  },
  {
   "cell_type": "code",
   "execution_count": 10,
   "metadata": {},
   "outputs": [
    {
     "data": {
      "text/html": [
       "<div>\n",
       "<style scoped>\n",
       "    .dataframe tbody tr th:only-of-type {\n",
       "        vertical-align: middle;\n",
       "    }\n",
       "\n",
       "    .dataframe tbody tr th {\n",
       "        vertical-align: top;\n",
       "    }\n",
       "\n",
       "    .dataframe thead th {\n",
       "        text-align: right;\n",
       "    }\n",
       "</style>\n",
       "<table border=\"1\" class=\"dataframe\">\n",
       "  <thead>\n",
       "    <tr style=\"text-align: right;\">\n",
       "      <th></th>\n",
       "      <th>transaction_id</th>\n",
       "      <th>visitor_id</th>\n",
       "      <th>date</th>\n",
       "      <th>revenue</th>\n",
       "      <th>group</th>\n",
       "    </tr>\n",
       "  </thead>\n",
       "  <tbody>\n",
       "    <tr>\n",
       "      <th>0</th>\n",
       "      <td>3667963787</td>\n",
       "      <td>3312258926</td>\n",
       "      <td>2019-08-15</td>\n",
       "      <td>1650</td>\n",
       "      <td>B</td>\n",
       "    </tr>\n",
       "    <tr>\n",
       "      <th>1</th>\n",
       "      <td>2804400009</td>\n",
       "      <td>3642806036</td>\n",
       "      <td>2019-08-15</td>\n",
       "      <td>730</td>\n",
       "      <td>B</td>\n",
       "    </tr>\n",
       "    <tr>\n",
       "      <th>2</th>\n",
       "      <td>2961555356</td>\n",
       "      <td>4069496402</td>\n",
       "      <td>2019-08-15</td>\n",
       "      <td>400</td>\n",
       "      <td>A</td>\n",
       "    </tr>\n",
       "    <tr>\n",
       "      <th>3</th>\n",
       "      <td>3797467345</td>\n",
       "      <td>1196621759</td>\n",
       "      <td>2019-08-15</td>\n",
       "      <td>9759</td>\n",
       "      <td>B</td>\n",
       "    </tr>\n",
       "    <tr>\n",
       "      <th>4</th>\n",
       "      <td>2282983706</td>\n",
       "      <td>2322279887</td>\n",
       "      <td>2019-08-15</td>\n",
       "      <td>2308</td>\n",
       "      <td>B</td>\n",
       "    </tr>\n",
       "  </tbody>\n",
       "</table>\n",
       "</div>"
      ],
      "text/plain": [
       "   transaction_id  visitor_id        date  revenue group\n",
       "0      3667963787  3312258926  2019-08-15     1650     B\n",
       "1      2804400009  3642806036  2019-08-15      730     B\n",
       "2      2961555356  4069496402  2019-08-15      400     A\n",
       "3      3797467345  1196621759  2019-08-15     9759     B\n",
       "4      2282983706  2322279887  2019-08-15     2308     B"
      ]
     },
     "execution_count": 10,
     "metadata": {},
     "output_type": "execute_result"
    }
   ],
   "source": [
    "# добавим \"змеиный регистр\" в названиях столбцов\n",
    "orders = orders.rename(columns={'transactionId': 'transaction_id', 'visitorId': 'visitor_id'})\n",
    "# выведем первые пять строк\n",
    "orders.head()"
   ]
  },
  {
   "cell_type": "markdown",
   "metadata": {},
   "source": [
    "Преобразуем тип данных в столбцах 'date' в датафреймах 'orders' и 'visitors' во временной тип данных."
   ]
  },
  {
   "cell_type": "code",
   "execution_count": 11,
   "metadata": {},
   "outputs": [
    {
     "name": "stdout",
     "output_type": "stream",
     "text": [
      "<class 'pandas.core.frame.DataFrame'>\n",
      "RangeIndex: 1197 entries, 0 to 1196\n",
      "Data columns (total 5 columns):\n",
      " #   Column          Non-Null Count  Dtype         \n",
      "---  ------          --------------  -----         \n",
      " 0   transaction_id  1197 non-null   int64         \n",
      " 1   visitor_id      1197 non-null   int64         \n",
      " 2   date            1197 non-null   datetime64[ns]\n",
      " 3   revenue         1197 non-null   int64         \n",
      " 4   group           1197 non-null   object        \n",
      "dtypes: datetime64[ns](1), int64(3), object(1)\n",
      "memory usage: 46.9+ KB\n"
     ]
    },
    {
     "data": {
      "text/plain": [
       "None"
      ]
     },
     "metadata": {},
     "output_type": "display_data"
    },
    {
     "name": "stdout",
     "output_type": "stream",
     "text": [
      "<class 'pandas.core.frame.DataFrame'>\n",
      "RangeIndex: 62 entries, 0 to 61\n",
      "Data columns (total 3 columns):\n",
      " #   Column    Non-Null Count  Dtype         \n",
      "---  ------    --------------  -----         \n",
      " 0   date      62 non-null     datetime64[ns]\n",
      " 1   group     62 non-null     object        \n",
      " 2   visitors  62 non-null     int64         \n",
      "dtypes: datetime64[ns](1), int64(1), object(1)\n",
      "memory usage: 1.6+ KB\n"
     ]
    }
   ],
   "source": [
    "orders['date'] = pd.to_datetime(orders['date'])\n",
    "visitors['date'] = pd.to_datetime(visitors['date'])\n",
    "display(orders.info())\n",
    "visitors.info()"
   ]
  },
  {
   "cell_type": "markdown",
   "metadata": {},
   "source": [
    "Проверим датафреймы на наличие явных дубликатов."
   ]
  },
  {
   "cell_type": "code",
   "execution_count": 12,
   "metadata": {},
   "outputs": [
    {
     "data": {
      "text/plain": [
       "0"
      ]
     },
     "execution_count": 12,
     "metadata": {},
     "output_type": "execute_result"
    }
   ],
   "source": [
    "hypothesis.duplicated().sum()"
   ]
  },
  {
   "cell_type": "code",
   "execution_count": 13,
   "metadata": {},
   "outputs": [
    {
     "data": {
      "text/plain": [
       "0"
      ]
     },
     "execution_count": 13,
     "metadata": {},
     "output_type": "execute_result"
    }
   ],
   "source": [
    "orders.duplicated().sum()"
   ]
  },
  {
   "cell_type": "code",
   "execution_count": 14,
   "metadata": {},
   "outputs": [
    {
     "data": {
      "text/plain": [
       "0"
      ]
     },
     "execution_count": 14,
     "metadata": {},
     "output_type": "execute_result"
    }
   ],
   "source": [
    "visitors.duplicated().sum()"
   ]
  },
  {
   "cell_type": "markdown",
   "metadata": {},
   "source": [
    "**Вывод**\n",
    "\n",
    "В предобработке данных мы привели все названия к единому регистру написания, изменили тип данных в столбцах 'date' в датафреймах 'orders' и 'visitors' во временной тип данных. Также проверили, что в датафреймах отсутствуют явные дубликаты."
   ]
  },
  {
   "cell_type": "markdown",
   "metadata": {},
   "source": [
    "## Приоритизация гипотез."
   ]
  },
  {
   "cell_type": "markdown",
   "metadata": {},
   "source": [
    "У нас 9 гипотез по увеличению выручки интернет-магазина с указанными параметрами Reach, Impact, Confidence, Effort."
   ]
  },
  {
   "cell_type": "markdown",
   "metadata": {},
   "source": [
    "Применим фреймворк ICE для приоритизации гипотез и отсортируем их по убыванию приоритета. Для этого в датафрейм добавим столбец 'ice'."
   ]
  },
  {
   "cell_type": "code",
   "execution_count": 15,
   "metadata": {},
   "outputs": [
    {
     "data": {
      "text/html": [
       "<div>\n",
       "<style scoped>\n",
       "    .dataframe tbody tr th:only-of-type {\n",
       "        vertical-align: middle;\n",
       "    }\n",
       "\n",
       "    .dataframe tbody tr th {\n",
       "        vertical-align: top;\n",
       "    }\n",
       "\n",
       "    .dataframe thead th {\n",
       "        text-align: right;\n",
       "    }\n",
       "</style>\n",
       "<table border=\"1\" class=\"dataframe\">\n",
       "  <thead>\n",
       "    <tr style=\"text-align: right;\">\n",
       "      <th></th>\n",
       "      <th>hypothesis</th>\n",
       "      <th>ice</th>\n",
       "    </tr>\n",
       "  </thead>\n",
       "  <tbody>\n",
       "    <tr>\n",
       "      <th>8</th>\n",
       "      <td>Запустить акцию, дающую скидку на товар в день рождения</td>\n",
       "      <td>16.20</td>\n",
       "    </tr>\n",
       "    <tr>\n",
       "      <th>0</th>\n",
       "      <td>Добавить два новых канала привлечения трафика, что позволит привлекать на 30% больше пользователей</td>\n",
       "      <td>13.33</td>\n",
       "    </tr>\n",
       "    <tr>\n",
       "      <th>7</th>\n",
       "      <td>Добавить форму подписки на все основные страницы, чтобы собрать базу клиентов для email-рассылок</td>\n",
       "      <td>11.20</td>\n",
       "    </tr>\n",
       "    <tr>\n",
       "      <th>6</th>\n",
       "      <td>Показать на главной странице баннеры с актуальными акциями и распродажами, чтобы увеличить конверсию</td>\n",
       "      <td>8.00</td>\n",
       "    </tr>\n",
       "    <tr>\n",
       "      <th>2</th>\n",
       "      <td>Добавить блоки рекомендаций товаров на сайт интернет магазина, чтобы повысить конверсию и средний чек заказа</td>\n",
       "      <td>7.00</td>\n",
       "    </tr>\n",
       "    <tr>\n",
       "      <th>1</th>\n",
       "      <td>Запустить собственную службу доставки, что сократит срок доставки заказов</td>\n",
       "      <td>2.00</td>\n",
       "    </tr>\n",
       "    <tr>\n",
       "      <th>5</th>\n",
       "      <td>Добавить страницу отзывов клиентов о магазине, что позволит увеличить количество заказов</td>\n",
       "      <td>1.33</td>\n",
       "    </tr>\n",
       "    <tr>\n",
       "      <th>3</th>\n",
       "      <td>Изменить структура категорий, что увеличит конверсию, т.к. пользователи быстрее найдут нужный товар</td>\n",
       "      <td>1.12</td>\n",
       "    </tr>\n",
       "    <tr>\n",
       "      <th>4</th>\n",
       "      <td>Изменить цвет фона главной страницы, чтобы увеличить вовлеченность пользователей</td>\n",
       "      <td>1.00</td>\n",
       "    </tr>\n",
       "  </tbody>\n",
       "</table>\n",
       "</div>"
      ],
      "text/plain": [
       "                                                                                                     hypothesis  \\\n",
       "8                                                       Запустить акцию, дающую скидку на товар в день рождения   \n",
       "0            Добавить два новых канала привлечения трафика, что позволит привлекать на 30% больше пользователей   \n",
       "7              Добавить форму подписки на все основные страницы, чтобы собрать базу клиентов для email-рассылок   \n",
       "6          Показать на главной странице баннеры с актуальными акциями и распродажами, чтобы увеличить конверсию   \n",
       "2  Добавить блоки рекомендаций товаров на сайт интернет магазина, чтобы повысить конверсию и средний чек заказа   \n",
       "1                                     Запустить собственную службу доставки, что сократит срок доставки заказов   \n",
       "5                      Добавить страницу отзывов клиентов о магазине, что позволит увеличить количество заказов   \n",
       "3           Изменить структура категорий, что увеличит конверсию, т.к. пользователи быстрее найдут нужный товар   \n",
       "4                              Изменить цвет фона главной страницы, чтобы увеличить вовлеченность пользователей   \n",
       "\n",
       "     ice  \n",
       "8  16.20  \n",
       "0  13.33  \n",
       "7  11.20  \n",
       "6   8.00  \n",
       "2   7.00  \n",
       "1   2.00  \n",
       "5   1.33  \n",
       "3   1.12  \n",
       "4   1.00  "
      ]
     },
     "execution_count": 15,
     "metadata": {},
     "output_type": "execute_result"
    }
   ],
   "source": [
    "hypothesis['ice'] = (hypothesis['impact']*hypothesis['confidence'])/hypothesis['efforts']\n",
    "hypothesis[['hypothesis', 'ice']].sort_values(by='ice', ascending=False).round(decimals=2)"
   ]
  },
  {
   "cell_type": "markdown",
   "metadata": {},
   "source": [
    "Наиболее перспективные гипотезы по ICE: 8, 0 и 7."
   ]
  },
  {
   "cell_type": "markdown",
   "metadata": {},
   "source": [
    "Теперь применим фреймворк RICE для приоритизации гипотез и также их отсортируем по убыванию приоритета. Добавим в датафрейм 'hypothesis' столбец 'rice'."
   ]
  },
  {
   "cell_type": "code",
   "execution_count": 16,
   "metadata": {},
   "outputs": [
    {
     "data": {
      "text/html": [
       "<div>\n",
       "<style scoped>\n",
       "    .dataframe tbody tr th:only-of-type {\n",
       "        vertical-align: middle;\n",
       "    }\n",
       "\n",
       "    .dataframe tbody tr th {\n",
       "        vertical-align: top;\n",
       "    }\n",
       "\n",
       "    .dataframe thead th {\n",
       "        text-align: right;\n",
       "    }\n",
       "</style>\n",
       "<table border=\"1\" class=\"dataframe\">\n",
       "  <thead>\n",
       "    <tr style=\"text-align: right;\">\n",
       "      <th></th>\n",
       "      <th>hypothesis</th>\n",
       "      <th>rice</th>\n",
       "    </tr>\n",
       "  </thead>\n",
       "  <tbody>\n",
       "    <tr>\n",
       "      <th>7</th>\n",
       "      <td>Добавить форму подписки на все основные страницы, чтобы собрать базу клиентов для email-рассылок</td>\n",
       "      <td>112.0</td>\n",
       "    </tr>\n",
       "    <tr>\n",
       "      <th>2</th>\n",
       "      <td>Добавить блоки рекомендаций товаров на сайт интернет магазина, чтобы повысить конверсию и средний чек заказа</td>\n",
       "      <td>56.0</td>\n",
       "    </tr>\n",
       "    <tr>\n",
       "      <th>0</th>\n",
       "      <td>Добавить два новых канала привлечения трафика, что позволит привлекать на 30% больше пользователей</td>\n",
       "      <td>40.0</td>\n",
       "    </tr>\n",
       "    <tr>\n",
       "      <th>6</th>\n",
       "      <td>Показать на главной странице баннеры с актуальными акциями и распродажами, чтобы увеличить конверсию</td>\n",
       "      <td>40.0</td>\n",
       "    </tr>\n",
       "    <tr>\n",
       "      <th>8</th>\n",
       "      <td>Запустить акцию, дающую скидку на товар в день рождения</td>\n",
       "      <td>16.2</td>\n",
       "    </tr>\n",
       "    <tr>\n",
       "      <th>3</th>\n",
       "      <td>Изменить структура категорий, что увеличит конверсию, т.к. пользователи быстрее найдут нужный товар</td>\n",
       "      <td>9.0</td>\n",
       "    </tr>\n",
       "    <tr>\n",
       "      <th>1</th>\n",
       "      <td>Запустить собственную службу доставки, что сократит срок доставки заказов</td>\n",
       "      <td>4.0</td>\n",
       "    </tr>\n",
       "    <tr>\n",
       "      <th>5</th>\n",
       "      <td>Добавить страницу отзывов клиентов о магазине, что позволит увеличить количество заказов</td>\n",
       "      <td>4.0</td>\n",
       "    </tr>\n",
       "    <tr>\n",
       "      <th>4</th>\n",
       "      <td>Изменить цвет фона главной страницы, чтобы увеличить вовлеченность пользователей</td>\n",
       "      <td>3.0</td>\n",
       "    </tr>\n",
       "  </tbody>\n",
       "</table>\n",
       "</div>"
      ],
      "text/plain": [
       "                                                                                                     hypothesis  \\\n",
       "7              Добавить форму подписки на все основные страницы, чтобы собрать базу клиентов для email-рассылок   \n",
       "2  Добавить блоки рекомендаций товаров на сайт интернет магазина, чтобы повысить конверсию и средний чек заказа   \n",
       "0            Добавить два новых канала привлечения трафика, что позволит привлекать на 30% больше пользователей   \n",
       "6          Показать на главной странице баннеры с актуальными акциями и распродажами, чтобы увеличить конверсию   \n",
       "8                                                       Запустить акцию, дающую скидку на товар в день рождения   \n",
       "3           Изменить структура категорий, что увеличит конверсию, т.к. пользователи быстрее найдут нужный товар   \n",
       "1                                     Запустить собственную службу доставки, что сократит срок доставки заказов   \n",
       "5                      Добавить страницу отзывов клиентов о магазине, что позволит увеличить количество заказов   \n",
       "4                              Изменить цвет фона главной страницы, чтобы увеличить вовлеченность пользователей   \n",
       "\n",
       "    rice  \n",
       "7  112.0  \n",
       "2   56.0  \n",
       "0   40.0  \n",
       "6   40.0  \n",
       "8   16.2  \n",
       "3    9.0  \n",
       "1    4.0  \n",
       "5    4.0  \n",
       "4    3.0  "
      ]
     },
     "execution_count": 16,
     "metadata": {},
     "output_type": "execute_result"
    }
   ],
   "source": [
    "hypothesis['rice'] = (hypothesis['reach']*hypothesis['impact']*hypothesis['confidence'])/hypothesis['efforts']\n",
    "hypothesis[['hypothesis', 'rice']].sort_values(by='rice', ascending=False)"
   ]
  },
  {
   "cell_type": "markdown",
   "metadata": {},
   "source": [
    "Наиболее перспективные гипотезы по RICE: 7, 2, 0 и 6."
   ]
  },
  {
   "cell_type": "markdown",
   "metadata": {},
   "source": [
    "Посмотрим, как изменилась приоритизация гипотез при применении RICE вместо ICE. Для этого выведем датафрейм  'hypothesis' со столбцами 'ice' и 'rice' и выделим в этих столбцах значения."
   ]
  },
  {
   "cell_type": "code",
   "execution_count": 17,
   "metadata": {},
   "outputs": [
    {
     "data": {
      "text/html": [
       "<style type=\"text/css\">\n",
       "#T_1a811_row0_col1 {\n",
       "  background-color: #5050fb;\n",
       "  color: #f1f1f1;\n",
       "}\n",
       "#T_1a811_row0_col2, #T_1a811_row4_col1 {\n",
       "  background-color: #0000ff;\n",
       "  color: #f1f1f1;\n",
       "}\n",
       "#T_1a811_row1_col1 {\n",
       "  background-color: #9090f8;\n",
       "  color: #f1f1f1;\n",
       "}\n",
       "#T_1a811_row1_col2 {\n",
       "  background-color: #7c7cf9;\n",
       "  color: #f1f1f1;\n",
       "}\n",
       "#T_1a811_row2_col1 {\n",
       "  background-color: #3030fd;\n",
       "  color: #f1f1f1;\n",
       "}\n",
       "#T_1a811_row2_col2, #T_1a811_row3_col2 {\n",
       "  background-color: #9f9ff7;\n",
       "  color: #f1f1f1;\n",
       "}\n",
       "#T_1a811_row3_col1 {\n",
       "  background-color: #8080f8;\n",
       "  color: #f1f1f1;\n",
       "}\n",
       "#T_1a811_row4_col2 {\n",
       "  background-color: #d4d4f4;\n",
       "  color: #000000;\n",
       "}\n",
       "#T_1a811_row5_col1, #T_1a811_row7_col1, #T_1a811_row8_col1, #T_1a811_row8_col2 {\n",
       "  background-color: #f0f0f3;\n",
       "  color: #000000;\n",
       "}\n",
       "#T_1a811_row5_col2 {\n",
       "  background-color: #e3e3f3;\n",
       "  color: #000000;\n",
       "}\n",
       "#T_1a811_row6_col1 {\n",
       "  background-color: #e0e0f4;\n",
       "  color: #000000;\n",
       "}\n",
       "#T_1a811_row6_col2, #T_1a811_row7_col2 {\n",
       "  background-color: #efeff3;\n",
       "  color: #000000;\n",
       "}\n",
       "</style>\n",
       "<table id=\"T_1a811\">\n",
       "  <thead>\n",
       "    <tr>\n",
       "      <th class=\"blank level0\" >&nbsp;</th>\n",
       "      <th id=\"T_1a811_level0_col0\" class=\"col_heading level0 col0\" >hypothesis</th>\n",
       "      <th id=\"T_1a811_level0_col1\" class=\"col_heading level0 col1\" >ice</th>\n",
       "      <th id=\"T_1a811_level0_col2\" class=\"col_heading level0 col2\" >rice</th>\n",
       "    </tr>\n",
       "  </thead>\n",
       "  <tbody>\n",
       "    <tr>\n",
       "      <th id=\"T_1a811_level0_row0\" class=\"row_heading level0 row0\" >7</th>\n",
       "      <td id=\"T_1a811_row0_col0\" class=\"data row0 col0\" >Добавить форму подписки на все основные страницы, чтобы собрать базу клиентов для email-рассылок</td>\n",
       "      <td id=\"T_1a811_row0_col1\" class=\"data row0 col1\" >11</td>\n",
       "      <td id=\"T_1a811_row0_col2\" class=\"data row0 col2\" >112</td>\n",
       "    </tr>\n",
       "    <tr>\n",
       "      <th id=\"T_1a811_level0_row1\" class=\"row_heading level0 row1\" >2</th>\n",
       "      <td id=\"T_1a811_row1_col0\" class=\"data row1 col0\" >Добавить блоки рекомендаций товаров на сайт интернет магазина, чтобы повысить конверсию и средний чек заказа</td>\n",
       "      <td id=\"T_1a811_row1_col1\" class=\"data row1 col1\" >7</td>\n",
       "      <td id=\"T_1a811_row1_col2\" class=\"data row1 col2\" >56</td>\n",
       "    </tr>\n",
       "    <tr>\n",
       "      <th id=\"T_1a811_level0_row2\" class=\"row_heading level0 row2\" >0</th>\n",
       "      <td id=\"T_1a811_row2_col0\" class=\"data row2 col0\" >Добавить два новых канала привлечения трафика, что позволит привлекать на 30% больше пользователей</td>\n",
       "      <td id=\"T_1a811_row2_col1\" class=\"data row2 col1\" >13</td>\n",
       "      <td id=\"T_1a811_row2_col2\" class=\"data row2 col2\" >40</td>\n",
       "    </tr>\n",
       "    <tr>\n",
       "      <th id=\"T_1a811_level0_row3\" class=\"row_heading level0 row3\" >6</th>\n",
       "      <td id=\"T_1a811_row3_col0\" class=\"data row3 col0\" >Показать на главной странице баннеры с актуальными акциями и распродажами, чтобы увеличить конверсию</td>\n",
       "      <td id=\"T_1a811_row3_col1\" class=\"data row3 col1\" >8</td>\n",
       "      <td id=\"T_1a811_row3_col2\" class=\"data row3 col2\" >40</td>\n",
       "    </tr>\n",
       "    <tr>\n",
       "      <th id=\"T_1a811_level0_row4\" class=\"row_heading level0 row4\" >8</th>\n",
       "      <td id=\"T_1a811_row4_col0\" class=\"data row4 col0\" >Запустить акцию, дающую скидку на товар в день рождения</td>\n",
       "      <td id=\"T_1a811_row4_col1\" class=\"data row4 col1\" >16</td>\n",
       "      <td id=\"T_1a811_row4_col2\" class=\"data row4 col2\" >16</td>\n",
       "    </tr>\n",
       "    <tr>\n",
       "      <th id=\"T_1a811_level0_row5\" class=\"row_heading level0 row5\" >3</th>\n",
       "      <td id=\"T_1a811_row5_col0\" class=\"data row5 col0\" >Изменить структура категорий, что увеличит конверсию, т.к. пользователи быстрее найдут нужный товар</td>\n",
       "      <td id=\"T_1a811_row5_col1\" class=\"data row5 col1\" >1</td>\n",
       "      <td id=\"T_1a811_row5_col2\" class=\"data row5 col2\" >9</td>\n",
       "    </tr>\n",
       "    <tr>\n",
       "      <th id=\"T_1a811_level0_row6\" class=\"row_heading level0 row6\" >1</th>\n",
       "      <td id=\"T_1a811_row6_col0\" class=\"data row6 col0\" >Запустить собственную службу доставки, что сократит срок доставки заказов</td>\n",
       "      <td id=\"T_1a811_row6_col1\" class=\"data row6 col1\" >2</td>\n",
       "      <td id=\"T_1a811_row6_col2\" class=\"data row6 col2\" >4</td>\n",
       "    </tr>\n",
       "    <tr>\n",
       "      <th id=\"T_1a811_level0_row7\" class=\"row_heading level0 row7\" >5</th>\n",
       "      <td id=\"T_1a811_row7_col0\" class=\"data row7 col0\" >Добавить страницу отзывов клиентов о магазине, что позволит увеличить количество заказов</td>\n",
       "      <td id=\"T_1a811_row7_col1\" class=\"data row7 col1\" >1</td>\n",
       "      <td id=\"T_1a811_row7_col2\" class=\"data row7 col2\" >4</td>\n",
       "    </tr>\n",
       "    <tr>\n",
       "      <th id=\"T_1a811_level0_row8\" class=\"row_heading level0 row8\" >4</th>\n",
       "      <td id=\"T_1a811_row8_col0\" class=\"data row8 col0\" >Изменить цвет фона главной страницы, чтобы увеличить вовлеченность пользователей</td>\n",
       "      <td id=\"T_1a811_row8_col1\" class=\"data row8 col1\" >1</td>\n",
       "      <td id=\"T_1a811_row8_col2\" class=\"data row8 col2\" >3</td>\n",
       "    </tr>\n",
       "  </tbody>\n",
       "</table>\n"
      ],
      "text/plain": [
       "<pandas.io.formats.style.Styler at 0x1d02de3d820>"
      ]
     },
     "execution_count": 17,
     "metadata": {},
     "output_type": "execute_result"
    }
   ],
   "source": [
    "hypothesis_ice_rice = hypothesis[['hypothesis', 'ice', 'rice']].sort_values(by='rice', ascending=False)\n",
    "# заменим вещественный тип данных в столбцах 'ice' и 'rice' на целочисленный\n",
    "hypothesis_ice_rice[['ice', 'rice']] = hypothesis_ice_rice[['ice', 'rice']].astype(int)\n",
    "# задаем палитру цветов\n",
    "cm = sns.light_palette(\"blue\", as_cmap=True)\n",
    "# применяем градиент фона к столбцам\n",
    "hypothesis_ice_rice.style.background_gradient(cmap=cm)"
   ]
  },
  {
   "cell_type": "markdown",
   "metadata": {},
   "source": [
    "**Вывод**\n",
    "\n",
    "Наиболее перспективные гипотезы по ICE: 8, 0 и 7 (16, 13 и 11 ICE соответвенно). А наиболее перспективные гипотезы по RICE - это 7, 2, 0 и 6 (112, 56, 40 и 40 RICE соответсвенно).\n",
    "\n",
    "Самыми приоритетными гипотезами будут гипотезы 7 (\"Добавить форму подписки на все основные страницы, чтобы собрать базу клиентов для email-рассылок\") и 0 (\"Добавить два новых канала привлечения трафика, что позволит привлекать на 30% больше пользователей\"), так как они перспективны и по ICE, и по RICE. Гипотеза №7 самая приоритетная, так как она охватит максимальное количество пользователей интернет-магазина и большая их часть подпишется на email-рассылку, при этом затраты на реализацию этой гипотезы будут средние. Вторая по приоритету гипотеза №0: хоть по количеству будет меньше пользователей, но это будут новые пользователи, привлеченные из двух новых источников трафика, но затраты на реализацию этой гипотезы будут немного выше, чем на реализацию 7ой гипотезы.\n",
    "\n",
    "Гипотеза №2 (\"Добавить блоки рекомендаций товаров на сайт интернет-магазина, чтобы повысить конверсию и средний чек заказа\") при расчете RICE стала второй по приорететам, хотя при расчете ICE была пятой. Это случилось из-за того, что блоки рекомендаций товаров на сайт интернет-магазина увидит большее количество пользователей. При расчете ICE этот показатель не был учтен.\n",
    "\n",
    "Гипотеза №8 (\"Запустить акцию, дающую скидку на товар в день рождения\") при расчете RICE стала пятой по приорететам, хотя при расчете ICE была первой. Так произошло из-за того, что день рождения у разных пользователей бывает в разные дни. Поэтому данная гипотеза охватывает очень малое количество пользователей в определенные дни, хотя подобная акция очень сильно повлияет на поведение пользователей.\n",
    "\n",
    "Гипотеза №6 (\"Показать на главной странице баннеры с актуальными акциями и распродажами, чтобы увеличить конверсию\") при расчете RICE тоже на четвертом месте по приорететам, как и при расчете ICE."
   ]
  },
  {
   "cell_type": "markdown",
   "metadata": {},
   "source": [
    "## Часть 3. Анализ A/B-теста"
   ]
  },
  {
   "cell_type": "markdown",
   "metadata": {},
   "source": [
    "Мы провели A/B-тест и получили результаты, которые описаны в файлах /datasets/orders.csv и /datasets/visitors.csv."
   ]
  },
  {
   "cell_type": "markdown",
   "metadata": {},
   "source": [
    "Чтобы построить графики, нужно собрать кумулятивные данные. Объявим датафрейм cumulative_data со столбцами: \n",
    "- date — дата;\n",
    "- group — группа A/B-теста (A или B);\n",
    "- orders — кумулятивное количество заказов на указанную дату в указанной группе;\n",
    "- buyers — кумулятивное количество пользователей, совершивших хотя бы один заказ, на указанную дату в указанной группе;\n",
    "- revenue — кумулятивная выручка на указанную дату в указанной группе (средний чек);\n",
    "- visitors — кумулятивное количество посетителей интернет-магазина на указанную дату в определённой группе."
   ]
  },
  {
   "cell_type": "code",
   "execution_count": 18,
   "metadata": {
    "scrolled": true
   },
   "outputs": [
    {
     "name": "stdout",
     "output_type": "stream",
     "text": [
      "В датасете \"orders\" А/В тесте группы: ['B' 'A']\n",
      "В датасете \"visitors\" А/В тесте группы: ['A' 'B']\n",
      "В датасете \"orders\" даты начала и окончания теста: 2019-08-01 00:00:00 2019-08-31 00:00:00\n",
      "В датасете \"visitors\" даты начала и окончания теста: 2019-08-01 00:00:00 2019-08-31 00:00:00\n",
      "В датасете \"orders\" количество пользователей группы А: 503\n",
      "В датасете \"orders\" количество пользователей группы В: 586\n",
      "Количество пользователей, которые попали в обе группы, равно 58\n"
     ]
    }
   ],
   "source": [
    "# проверим: сколько у нас групп в АВ-тесте\n",
    "group_orders = orders['group'].unique()\n",
    "print('В датасете \"orders\" А/В тесте группы:', group_orders)\n",
    "group_visitors = visitors['group'].unique()\n",
    "print('В датасете \"visitors\" А/В тесте группы:', group_visitors) \n",
    "\n",
    "# проверим: даты начала и окончания теста\n",
    "min_date_orders = orders['date'].min()\n",
    "max_date_orders = orders['date'].max()\n",
    "print('В датасете \"orders\" даты начала и окончания теста:', min_date_orders, max_date_orders)\n",
    "min_date_visitors = visitors['date'].min()\n",
    "max_date_visitors = visitors['date'].max()\n",
    "print('В датасете \"visitors\" даты начала и окончания теста:', min_date_visitors, max_date_visitors)\n",
    "\n",
    "# проверим: сколько пользователей в каждой группе\n",
    "orders_A = orders.query('group == \"A\"')\n",
    "users_A = orders_A['visitor_id'].unique()\n",
    "orders_B = orders.query('group == \"B\"')\n",
    "users_B = orders_B['visitor_id'].unique()\n",
    "print('В датасете \"orders\" количество пользователей группы А:', len(users_A))\n",
    "print('В датасете \"orders\" количество пользователей группы В:', len(users_B))\n",
    "\n",
    "# проверим: попали ли какие-то пользователи в обе группы\n",
    "duplicated_users = orders.groupby('visitor_id').agg({'group': 'nunique'})\n",
    "duplicated_users.columns = ['groups']\n",
    "duplicated_users = duplicated_users.query('groups > 1')\n",
    "print('Количество пользователей, которые попали в обе группы, равно', len(duplicated_users))"
   ]
  },
  {
   "cell_type": "markdown",
   "metadata": {},
   "source": [
    "**Вывод**\n",
    "    \n",
    "Количество групп в датасетах совпадает: есть группа А и есть группа В. Также совпадают даты начала и окончания проведения теста А/В. А вот с количеством пользователей в группах возникают вопросы. Так как в группе А количество пользователей составляет 503 пользователя, а к группе В - 586 пользователей, то разделение пользователей по группам не симметрично. Также 58 пользователей попали в обе группы. Если мы удалим эти 58 пользователей из группы В (тогда в группе В будет 528 пользователей), то распределение пользователей по группам так и останется не симметричным, что скажется на дальнейшем анализе данных. Этот момент должен был быть решен еще на стадии проведения А/А теста."
   ]
  },
  {
   "cell_type": "code",
   "execution_count": 19,
   "metadata": {},
   "outputs": [
    {
     "data": {
      "text/html": [
       "<div>\n",
       "<style scoped>\n",
       "    .dataframe tbody tr th:only-of-type {\n",
       "        vertical-align: middle;\n",
       "    }\n",
       "\n",
       "    .dataframe tbody tr th {\n",
       "        vertical-align: top;\n",
       "    }\n",
       "\n",
       "    .dataframe thead th {\n",
       "        text-align: right;\n",
       "    }\n",
       "</style>\n",
       "<table border=\"1\" class=\"dataframe\">\n",
       "  <thead>\n",
       "    <tr style=\"text-align: right;\">\n",
       "      <th></th>\n",
       "      <th>date</th>\n",
       "      <th>group</th>\n",
       "      <th>orders</th>\n",
       "      <th>buyers</th>\n",
       "      <th>revenue</th>\n",
       "      <th>visitors</th>\n",
       "    </tr>\n",
       "  </thead>\n",
       "  <tbody>\n",
       "    <tr>\n",
       "      <th>0</th>\n",
       "      <td>2019-08-01</td>\n",
       "      <td>A</td>\n",
       "      <td>24</td>\n",
       "      <td>20</td>\n",
       "      <td>148579</td>\n",
       "      <td>719</td>\n",
       "    </tr>\n",
       "    <tr>\n",
       "      <th>1</th>\n",
       "      <td>2019-08-01</td>\n",
       "      <td>B</td>\n",
       "      <td>21</td>\n",
       "      <td>20</td>\n",
       "      <td>101217</td>\n",
       "      <td>713</td>\n",
       "    </tr>\n",
       "    <tr>\n",
       "      <th>2</th>\n",
       "      <td>2019-08-02</td>\n",
       "      <td>A</td>\n",
       "      <td>44</td>\n",
       "      <td>38</td>\n",
       "      <td>242401</td>\n",
       "      <td>1338</td>\n",
       "    </tr>\n",
       "    <tr>\n",
       "      <th>3</th>\n",
       "      <td>2019-08-02</td>\n",
       "      <td>B</td>\n",
       "      <td>45</td>\n",
       "      <td>43</td>\n",
       "      <td>266748</td>\n",
       "      <td>1294</td>\n",
       "    </tr>\n",
       "    <tr>\n",
       "      <th>4</th>\n",
       "      <td>2019-08-03</td>\n",
       "      <td>A</td>\n",
       "      <td>68</td>\n",
       "      <td>62</td>\n",
       "      <td>354874</td>\n",
       "      <td>1845</td>\n",
       "    </tr>\n",
       "  </tbody>\n",
       "</table>\n",
       "</div>"
      ],
      "text/plain": [
       "        date group  orders  buyers  revenue  visitors\n",
       "0 2019-08-01     A      24      20   148579       719\n",
       "1 2019-08-01     B      21      20   101217       713\n",
       "2 2019-08-02     A      44      38   242401      1338\n",
       "3 2019-08-02     B      45      43   266748      1294\n",
       "4 2019-08-03     A      68      62   354874      1845"
      ]
     },
     "execution_count": 19,
     "metadata": {},
     "output_type": "execute_result"
    }
   ],
   "source": [
    "# создаем массив уникальных пар значений дат и групп теста\n",
    "dates_groups = orders[['date','group']].drop_duplicates()\n",
    "\n",
    "# получаем агрегированные кумулятивные по дням данные о заказах \n",
    "orders_aggregated = dates_groups.apply(\n",
    "    lambda x: orders[np.logical_and(orders['date'] <= x['date'], orders['group'] == x['group'])]\n",
    "    .agg({'date': 'max', 'group': 'max', 'transaction_id': 'nunique', 'visitor_id': 'nunique', 'revenue': 'sum'}), axis=1)\\\n",
    "    .sort_values(by=['date','group'])\n",
    "\n",
    "# получаем агрегированные кумулятивные по дням данные о посетителях интернет-магазина \n",
    "visitors_aggregated = dates_groups.apply(\n",
    "    lambda x: visitors[np.logical_and(visitors['date'] <= x['date'], visitors['group'] == x['group'])]\n",
    "    .agg({'date': 'max', 'group': 'max', 'visitors': 'sum'}), axis=1).sort_values(by=['date','group'])\n",
    "\n",
    "# объединяем кумулятивные данные в одной таблице и присваиваем ее столбцам понятные названия\n",
    "cumulative_data = orders_aggregated.merge(visitors_aggregated, left_on=['date', 'group'], right_on=['date', 'group'])\n",
    "cumulative_data.columns = ['date', 'group', 'orders', 'buyers', 'revenue', 'visitors']\n",
    "\n",
    "cumulative_data.head()"
   ]
  },
  {
   "cell_type": "markdown",
   "metadata": {},
   "source": [
    "Построим график кумулятивной выручки по группам."
   ]
  },
  {
   "cell_type": "code",
   "execution_count": 20,
   "metadata": {},
   "outputs": [
    {
     "data": {
      "image/png": "[encoded data removed]",
      "text/plain": [
       "<Figure size 864x360 with 1 Axes>"
      ]
     },
     "metadata": {
      "needs_background": "light"
     },
     "output_type": "display_data"
    }
   ],
   "source": [
    "# датафрейм с кумулятивным количеством заказов и кумулятивной выручкой по дням в группе А\n",
    "cumulative_revenueA = cumulative_data[cumulative_data['group']=='A'][['date','revenue', 'orders']]\n",
    "# датафрейм с кумулятивным количеством заказов и кумулятивной выручкой по дням в группе B\n",
    "cumulative_revenueB = cumulative_data[cumulative_data['group']=='B'][['date','revenue', 'orders']]\n",
    "\n",
    "plt.figure(figsize=(12, 5))\n",
    "# строим график выручки группы А\n",
    "plt.plot(cumulative_revenueA['date'], cumulative_revenueA['revenue'], label='A')\n",
    "# строим график выручки группы B\n",
    "plt.plot(cumulative_revenueB['date'], cumulative_revenueB['revenue'], label='B')\n",
    "\n",
    "plt.grid()\n",
    "plt.title('График кумулятивной выручки по группам А и В', fontsize = 19)\n",
    "plt.xlabel('Дата', fontsize = 15)\n",
    "plt.ylabel('Кумулятивная выручка', fontsize = 15)\n",
    "plt.legend()\n",
    "plt.show()"
   ]
  },
  {
   "cell_type": "markdown",
   "metadata": {},
   "source": [
    "**Вывод**\n",
    "\n",
    "Выручка в обеих группах возрастает на протяжении всего теста. Согласно графику до 5ого августа включительно выручка в группах примерно одинаково возрастает, а после выручка в группе В немного больше, чем в группе А. 13 августа 2019 года выручка в обеих группах снова практически одинаковая. Дальше по графику видно, что выручка в группе В увеличивается, а после 18 августа происходит резкий скачок выручки в этой группе, в то время, как выручка в группе А растет без резких всплесков. Возможно в период с 18 по 19 августа пользователи группы В совершили крупные заказы в интернет-магазине либо количество заказов в этой группе увеличилось, что и дало такой резкий рост выручки."
   ]
  },
  {
   "cell_type": "markdown",
   "metadata": {},
   "source": [
    "Построим график среднего чека по группам. Для этого разделим кумулятивную выручку на кумулятивное число заказов."
   ]
  },
  {
   "cell_type": "code",
   "execution_count": 21,
   "metadata": {},
   "outputs": [
    {
     "data": {
      "image/png": "[encoded data removed]",
      "text/plain": [
       "<Figure size 864x360 with 1 Axes>"
      ]
     },
     "metadata": {
      "needs_background": "light"
     },
     "output_type": "display_data"
    }
   ],
   "source": [
    "plt.figure(figsize=(12, 5))\n",
    "plt.plot(cumulative_revenueA['date'], cumulative_revenueA['revenue']/cumulative_revenueA['orders'], label='A')\n",
    "plt.plot(cumulative_revenueB['date'], cumulative_revenueB['revenue']/cumulative_revenueB['orders'], label='B')\n",
    "plt.grid()\n",
    "plt.title('График кумулятивного среднего чека по группам А и В', fontsize = 19)\n",
    "plt.xlabel('Дата', fontsize = 15)\n",
    "plt.ylabel('Кумулятивный средний чек', fontsize = 15)\n",
    "plt.legend()\n",
    "plt.show()"
   ]
  },
  {
   "cell_type": "markdown",
   "metadata": {},
   "source": [
    "**Вывод**\n",
    "\n",
    "В начале теста средний чек в группе А упал, а в период с 6 по 13 августа наблюдается рост среднего чека в этой группе. Далее в период с 16 по 25 авгучта средний чек в группе А стабилизировался, а к концу теста виден небольшой рост среднего чека в этой группе. В группе В в начале теста виден резкий рост среднего чека и небольшой спад 5ого августа, после чего средний чек в этой группе снова стал возрастать. В период с 15 по 18 августа средний чек в группе В стабилизировался, а после резко увеличился. После 19 августа наблюдается падение среднего чека в группе В до конца теста. Вероятно такие всплески роста среднего чека в группе В обусловлены крупными заказами в эти периоды."
   ]
  },
  {
   "cell_type": "markdown",
   "metadata": {},
   "source": [
    "Построим график относительного изменения кумулятивного среднего чека группы B к группе A."
   ]
  },
  {
   "cell_type": "code",
   "execution_count": 22,
   "metadata": {},
   "outputs": [
    {
     "data": {
      "image/png": "[encoded data removed]",
      "text/plain": [
       "<Figure size 864x360 with 1 Axes>"
      ]
     },
     "metadata": {
      "needs_background": "light"
     },
     "output_type": "display_data"
    }
   ],
   "source": [
    "# собираем данные в одном датафрейме\n",
    "merged_cumulative_revenue = cumulative_revenueA.merge(\n",
    "    cumulative_revenueB, left_on='date', right_on='date', how='left', suffixes=['_A', '_B'])\n",
    "\n",
    "# cтроим отношение средних чеков\n",
    "plt.figure(figsize=(12, 5))\n",
    "plt.plot(merged_cumulative_revenue['date'], \n",
    "         (merged_cumulative_revenue['revenue_B']/merged_cumulative_revenue['orders_B'])/\n",
    "         (merged_cumulative_revenue['revenue_A']/merged_cumulative_revenue['orders_A'])-1)\n",
    "# добавляем ось X\n",
    "plt.axhline(y=0, color='black', linestyle='--')\n",
    "plt.grid()\n",
    "plt.title('График относительного изменения кумулятивного среднего чека группы B к группе A', fontsize = 15)\n",
    "plt.xlabel('Дата', fontsize = 13)\n",
    "plt.show()"
   ]
  },
  {
   "cell_type": "markdown",
   "metadata": {},
   "source": [
    "**Вывод**\n",
    "\n",
    "В нескольких точках график различия между сегментами резко «скачет». Скорее всего на эти повлияли крупные заказы или выбросы."
   ]
  },
  {
   "cell_type": "markdown",
   "metadata": {},
   "source": [
    "Построим график кумулятивного среднего количества заказов на посетителя по группам."
   ]
  },
  {
   "cell_type": "markdown",
   "metadata": {},
   "source": [
    "**Вывод**\n",
    "\n",
    "С начала теста конверсия группы А была больше конверсии группы В, но после 3его августа она начала снижаться. Конверсия группы В в начале сильно колебалась, а после 6ого августа стала больше конверсии группы А и была стабильно выше на протяжении проведения всего теста."
   ]
  },
  {
   "cell_type": "markdown",
   "metadata": {},
   "source": [
    "Теперь посмотрим распределение кумулятивного среднего количества заказов на посетителя по группам."
   ]
  },
  {
   "cell_type": "code",
   "execution_count": 23,
   "metadata": {
    "scrolled": true
   },
   "outputs": [
    {
     "data": {
      "image/png": "[encoded data removed]",
      "text/plain": [
       "<Figure size 864x360 with 1 Axes>"
      ]
     },
     "metadata": {
      "needs_background": "light"
     },
     "output_type": "display_data"
    }
   ],
   "source": [
    "# считаем среднее количество заказов на посетителя\n",
    "cumulative_data['mean_orders'] = cumulative_data['orders']/cumulative_data['visitors']\n",
    "# отделяем данные по группе A\n",
    "cumulative_data_A = cumulative_data[cumulative_data['group']=='A']\n",
    "# отделяем данные по группе B\n",
    "cumulative_data_B = cumulative_data[cumulative_data['group']=='B']\n",
    "\n",
    "# строим графики\n",
    "plt.figure(figsize=(12, 5))\n",
    "plt.plot(cumulative_data_A['date'], cumulative_data_A['mean_orders'], label='A')\n",
    "plt.plot(cumulative_data_B['date'], cumulative_data_B['mean_orders'], label='B')\n",
    "plt.legend()\n",
    "plt.grid()\n",
    "plt.title('График кумулятивного среднего количества заказов на посетителя по группам', fontsize = 17)\n",
    "plt.xlabel('Дата', fontsize = 15)\n",
    "plt.show()"
   ]
  },
  {
   "cell_type": "markdown",
   "metadata": {},
   "source": [
    "**Вывод**\n",
    "\n",
    "С начала теста среднее количество заказов на посетителя группы А было больше среднего количества заказов на посетителя группы В, но после 3его августа оно начало снижаться. Средне количество заказов на посетителя группы В в начале сильно колебалось, а после 6ого августа стало больше среднего количества заказов на посетителя группы А и было стабильно выше на протяжении проведения всего теста."
   ]
  },
  {
   "cell_type": "markdown",
   "metadata": {},
   "source": [
    "Теперь построим график относительного изменения кумулятивного среднего количества заказов на посетителя группы B к группе A, то есть построим график относительного различия кумулятивных конверсий."
   ]
  },
  {
   "cell_type": "code",
   "execution_count": 24,
   "metadata": {},
   "outputs": [
    {
     "data": {
      "image/png": "[encoded data removed]",
      "text/plain": [
       "<Figure size 1080x360 with 1 Axes>"
      ]
     },
     "metadata": {
      "needs_background": "light"
     },
     "output_type": "display_data"
    }
   ],
   "source": [
    "merged_cumulative_mean_orders = cumulative_data_A[['date','mean_orders']].merge(\n",
    "    cumulative_data_B[['date','mean_orders']], left_on='date', right_on='date', how='left', suffixes=['_A', '_B'])\n",
    "\n",
    "plt.figure(figsize=(15, 5))\n",
    "plt.plot(merged_cumulative_mean_orders['date'], merged_cumulative_mean_orders['mean_orders_B']/\n",
    "         merged_cumulative_mean_orders['mean_orders_A']-1, \n",
    "         label=\"Относительный прирост среднего количества заказов на посетителя группы B относительно группы A\")\n",
    "plt.legend()\n",
    "plt.grid()\n",
    "plt.axhline(y=0, color='black', linestyle='--')\n",
    "plt.axhline(y=0.1, color='grey', linestyle='--')\n",
    "plt.title(\n",
    "    'График относительного изменения кумулятивного среднего количества заказов на посетителя группы группы B к группе A', \n",
    "    fontsize = 16)\n",
    "plt.xlabel('Дата', fontsize = 15)\n",
    "plt.show()"
   ]
  },
  {
   "cell_type": "markdown",
   "metadata": {},
   "source": [
    "**Вывод**\n",
    "\n",
    "В начале теста прирост среднего количества заказов на посетителя группы В был ниже прироста группы А. После 5ого августа прирост среднего количества заказов на посетителя группы В стал расти относительно группы А и был выше в период с 8ого августа по 23е августа. Далее прирост среднего количества заказов на посетителя группы В стал почти близок к приросту среднего количества заказов группы А, а к концу теста снова стал увеличиваться."
   ]
  },
  {
   "cell_type": "markdown",
   "metadata": {},
   "source": [
    "Построим точечный график количества заказов по пользователям. Для этого сгруппируем заказы по пользователям и подсчитает число уникальных заказов по сгруппированным данным."
   ]
  },
  {
   "cell_type": "code",
   "execution_count": 25,
   "metadata": {},
   "outputs": [
    {
     "data": {
      "text/html": [
       "<div>\n",
       "<style scoped>\n",
       "    .dataframe tbody tr th:only-of-type {\n",
       "        vertical-align: middle;\n",
       "    }\n",
       "\n",
       "    .dataframe tbody tr th {\n",
       "        vertical-align: top;\n",
       "    }\n",
       "\n",
       "    .dataframe thead th {\n",
       "        text-align: right;\n",
       "    }\n",
       "</style>\n",
       "<table border=\"1\" class=\"dataframe\">\n",
       "  <thead>\n",
       "    <tr style=\"text-align: right;\">\n",
       "      <th></th>\n",
       "      <th>user_id</th>\n",
       "      <th>orders</th>\n",
       "    </tr>\n",
       "  </thead>\n",
       "  <tbody>\n",
       "    <tr>\n",
       "      <th>1023</th>\n",
       "      <td>4256040402</td>\n",
       "      <td>11</td>\n",
       "    </tr>\n",
       "    <tr>\n",
       "      <th>591</th>\n",
       "      <td>2458001652</td>\n",
       "      <td>11</td>\n",
       "    </tr>\n",
       "    <tr>\n",
       "      <th>569</th>\n",
       "      <td>2378935119</td>\n",
       "      <td>9</td>\n",
       "    </tr>\n",
       "    <tr>\n",
       "      <th>487</th>\n",
       "      <td>2038680547</td>\n",
       "      <td>8</td>\n",
       "    </tr>\n",
       "    <tr>\n",
       "      <th>44</th>\n",
       "      <td>199603092</td>\n",
       "      <td>5</td>\n",
       "    </tr>\n",
       "    <tr>\n",
       "      <th>744</th>\n",
       "      <td>3062433592</td>\n",
       "      <td>5</td>\n",
       "    </tr>\n",
       "    <tr>\n",
       "      <th>55</th>\n",
       "      <td>237748145</td>\n",
       "      <td>5</td>\n",
       "    </tr>\n",
       "    <tr>\n",
       "      <th>917</th>\n",
       "      <td>3803269165</td>\n",
       "      <td>5</td>\n",
       "    </tr>\n",
       "    <tr>\n",
       "      <th>299</th>\n",
       "      <td>1230306981</td>\n",
       "      <td>5</td>\n",
       "    </tr>\n",
       "    <tr>\n",
       "      <th>897</th>\n",
       "      <td>3717692402</td>\n",
       "      <td>5</td>\n",
       "    </tr>\n",
       "  </tbody>\n",
       "</table>\n",
       "</div>"
      ],
      "text/plain": [
       "         user_id  orders\n",
       "1023  4256040402      11\n",
       "591   2458001652      11\n",
       "569   2378935119       9\n",
       "487   2038680547       8\n",
       "44     199603092       5\n",
       "744   3062433592       5\n",
       "55     237748145       5\n",
       "917   3803269165       5\n",
       "299   1230306981       5\n",
       "897   3717692402       5"
      ]
     },
     "execution_count": 25,
     "metadata": {},
     "output_type": "execute_result"
    }
   ],
   "source": [
    "orders_by_users = (orders.groupby('visitor_id', as_index=False).agg({'transaction_id': 'nunique'})) \n",
    "orders_by_users.columns = ['user_id', 'orders']\n",
    "# отсортируем по убыванию количества заказов пользователей и выведем на экран первые 10 строк.\n",
    "orders_by_users.sort_values(by='orders', ascending=False).head(10)"
   ]
  },
  {
   "cell_type": "code",
   "execution_count": 26,
   "metadata": {},
   "outputs": [
    {
     "data": {
      "image/png": "[encoded data removed]",
      "text/plain": [
       "<Figure size 432x288 with 1 Axes>"
      ]
     },
     "metadata": {
      "needs_background": "light"
     },
     "output_type": "display_data"
    }
   ],
   "source": [
    "# строим точечную диаграмму\n",
    "x_values = pd.Series(range(0,len(orders_by_users)))\n",
    "\n",
    "plt.scatter(x_values, orders_by_users['orders'])\n",
    "plt.title('Распределение числа заказов по пользователям')\n",
    "plt.ylabel('Количество заказов', fontsize = 13)\n",
    "plt.show()"
   ]
  },
  {
   "cell_type": "markdown",
   "metadata": {},
   "source": [
    "**Вывод**\n",
    "\n",
    "Большинство пользователей сделали 1 заказ. Есть несколько пользователей, которые сделали от 2х до 3х заказов. А также согласно точечной диаграмме, два пользователя совершили по 11 заказов, один пользователей - 9 заказов, один пользователей - 8 заказов, 6 пользователей - по 5 заказов и три пользователя - по 4 заказа."
   ]
  },
  {
   "cell_type": "markdown",
   "metadata": {},
   "source": [
    "Определим 95-й и 99-й перцентили количества заказов на пользователя."
   ]
  },
  {
   "cell_type": "code",
   "execution_count": 27,
   "metadata": {},
   "outputs": [
    {
     "data": {
      "text/plain": [
       "array([2., 4.])"
      ]
     },
     "execution_count": 27,
     "metadata": {},
     "output_type": "execute_result"
    }
   ],
   "source": [
    "np.percentile(orders_by_users['orders'], [95, 99])"
   ]
  },
  {
   "cell_type": "markdown",
   "metadata": {},
   "source": [
    "**Вывод**\n",
    "\n",
    "Не более 5% пользователей оформили 2 заказа и 1% пользователей, которые оформили 4 заказа. Следует отсеять пользователей, которые совершили от 2х до 11ти заказов."
   ]
  },
  {
   "cell_type": "markdown",
   "metadata": {},
   "source": [
    "Теперь построим точечный график стоимостей заказов."
   ]
  },
  {
   "cell_type": "code",
   "execution_count": 28,
   "metadata": {},
   "outputs": [
    {
     "data": {
      "image/png": "[encoded data removed]",
      "text/plain": [
       "<Figure size 432x288 with 1 Axes>"
      ]
     },
     "metadata": {
      "needs_background": "light"
     },
     "output_type": "display_data"
    }
   ],
   "source": [
    "# строим точечную диаграмму\n",
    "x_values = pd.Series(range(0,len(orders['revenue'])))\n",
    "\n",
    "plt.scatter(x_values, orders['revenue']) \n",
    "plt.title('Распределение стоимости заказов')\n",
    "plt.ylabel('Стоимость заказов', fontsize = 13)\n",
    "plt.show()"
   ]
  },
  {
   "cell_type": "markdown",
   "metadata": {},
   "source": [
    "**Вывод**\n",
    "\n",
    "По точечной диаграмме видно, что есть заказ стоимостью более 1.2 млн. Такой заказ выглядит аномально. Вероятно он и оказывает влияние на скачки на графиках кумулятивных данных."
   ]
  },
  {
   "cell_type": "markdown",
   "metadata": {},
   "source": [
    "Посчитаем 95-й и 99-й перцентили стоимости заказов."
   ]
  },
  {
   "cell_type": "code",
   "execution_count": 29,
   "metadata": {},
   "outputs": [
    {
     "data": {
      "text/plain": [
       "array([28000. , 58233.2])"
      ]
     },
     "execution_count": 29,
     "metadata": {},
     "output_type": "execute_result"
    }
   ],
   "source": [
    "np.percentile(orders['revenue'], [95, 99])"
   ]
  },
  {
   "cell_type": "markdown",
   "metadata": {},
   "source": [
    "Не более 5% пользователей оформили заказы стоимостью 28 000 и 1% пользователей, которые оформили заказы стоимостью 58 233,2. Следует отсеять пользователей, которые совершили заказы стоимостью от 28 000."
   ]
  },
  {
   "cell_type": "markdown",
   "metadata": {},
   "source": [
    "Посчитаем статистическую значимость различий в среднем количестве заказов на посетителя между группами по «сырым» данным - без удаления аномальных пользователей.\n",
    "\n",
    "Сформулируем гипотезы. \n",
    "* Нулевая: нет различий в среднем количестве заказов между группами А и В. \n",
    "* Альтернативная: различия в среднем количестве заказов между группами А и В есть."
   ]
  },
  {
   "cell_type": "markdown",
   "metadata": {},
   "source": [
    "Создадим переменные visitors_A_daily, visitors_B_daily, orders_A_daily, orders_В_daily для расчета статистической значимости различий в среднем количестве заказов на посетителя между группами."
   ]
  },
  {
   "cell_type": "code",
   "execution_count": 30,
   "metadata": {},
   "outputs": [
    {
     "name": "stdout",
     "output_type": "stream",
     "text": [
      "P-value равен 0.017\n",
      "Относительный прирост среднего числа заказов группы B равен 0.138\n"
     ]
    }
   ],
   "source": [
    "# подготовим данные\n",
    "visitors_A_daily = visitors[visitors['group'] == 'A'][['date', 'visitors']]\n",
    "visitors_A_daily.columns = ['date', 'visitors_per_date_A']\n",
    "\n",
    "visitors_B_daily = visitors[visitors['group'] == 'B'][['date', 'visitors']]\n",
    "visitors_B_daily.columns = ['date', 'visitors_per_date_B']\n",
    "\n",
    "orders_A_daily = (\n",
    "    orders[orders['group'] == 'A'][['date', 'transaction_id', 'visitor_id', 'revenue']]\n",
    "    .groupby('date', as_index=False)\n",
    "    .agg({'transaction_id': pd.Series.nunique, 'revenue': 'sum'})\n",
    ")\n",
    "orders_A_daily.columns = ['date', 'orders_per_date_A', 'revenue_per_date_A']\n",
    "\n",
    "orders_B_daily = (\n",
    "    orders[orders['group'] == 'B'][['date', 'transaction_id', 'visitor_id', 'revenue']]\n",
    "    .groupby('date', as_index=False)\n",
    "    .agg({'transaction_id': pd.Series.nunique, 'revenue': 'sum'})\n",
    ")\n",
    "orders_B_daily.columns = ['date', 'orders_per_date_B', 'revenue_per_date_B']\n",
    "\n",
    "# создадим переменные orders_by_users_A и orders_by_users_B\n",
    "orders_by_users_A = (orders[orders['group'] == 'A'].groupby('visitor_id', as_index=False)\n",
    "                     .agg({'transaction_id': pd.Series.nunique})\n",
    ")\n",
    "orders_by_users_A.columns = ['user_id', 'orders']\n",
    "\n",
    "orders_by_users_B = (orders[orders['group'] == 'B'].groupby('visitor_id', as_index=False)\n",
    "                     .agg({'transaction_id': pd.Series.nunique})\n",
    ")\n",
    "orders_by_users_B.columns = ['user_id', 'orders']\n",
    "\n",
    "# объявим переменные sample_A и sample_B, в которых пользователям из разных групп будет соответствовать количество заказов\n",
    "sample_A = pd.concat([orders_by_users_A['orders'],pd.Series(\n",
    "    0, index=np.arange(visitors_A_daily['visitors_per_date_A'].sum()-len(orders_by_users_A['orders'])), name='orders')],axis=0)\n",
    "\n",
    "sample_B = pd.concat([orders_by_users_B['orders'],pd.Series(\n",
    "    0, index=np.arange(visitors_B_daily['visitors_per_date_B'].sum()-len(orders_by_users_B['orders'])), name='orders')],axis=0)\n",
    "\n",
    "print(\"P-value равен {0:.3f}\".format(st.mannwhitneyu(sample_A, sample_B)[1]))\n",
    "\n",
    "print(\"Относительный прирост среднего числа заказов группы B равен {0:.3f}\"\n",
    "      .format((orders_B_daily['orders_per_date_B'].sum()/visitors_B_daily['visitors_per_date_B'].sum())/\n",
    "                  (orders_A_daily['orders_per_date_A'].sum()/visitors_A_daily['visitors_per_date_A'].sum())-1))"
   ]
  },
  {
   "cell_type": "markdown",
   "metadata": {},
   "source": [
    "**Вывод**\n",
    "\n",
    "По «сырым» данным различия в среднем числе заказов групп A и B есть: p-value меньше 5% (p-value равен 1,7%). Значит, нулевую гипотезу о том, что различий в среднем количестве заказов между группами нет, отвергаем. Относительный выигрыш группы B равен 13,8%."
   ]
  },
  {
   "cell_type": "markdown",
   "metadata": {},
   "source": [
    "Теперь проверим статистическую значимость различий в среднем чеке между сегментами по «сырым» данным. \n",
    "* Нулевая гипотеза: нет различий в среднем чеке между группами А и В. \n",
    "* Альтернативная гипотеза: различия в среднем чеке между группами А и В есть. "
   ]
  },
  {
   "cell_type": "code",
   "execution_count": 31,
   "metadata": {},
   "outputs": [
    {
     "name": "stdout",
     "output_type": "stream",
     "text": [
      "P-value равен 0.729\n",
      "Относительный прирост среднего чека группы B равен 0.259\n"
     ]
    }
   ],
   "source": [
    "print(\"P-value равен {0:.3f}\".format(st.mannwhitneyu(orders[orders['group']=='A']['revenue'], \n",
    "                                                     orders[orders['group']=='B']['revenue'])[1]))\n",
    "print(\"Относительный прирост среднего чека группы B равен {0:.3f}\".format(orders[orders['group']=='B']['revenue'].mean()/\n",
    "                                                                          orders[orders['group']=='A']['revenue'].mean()-1)) "
   ]
  },
  {
   "cell_type": "markdown",
   "metadata": {},
   "source": [
    "**Вывод**\n",
    "\n",
    "По \"сырым\" данным различий в среднем чеке между группами А и В нет: р-value значительно больше 5% (р-value равен 72,9%). Значит, у нас нет причин отвергать нулевую гипотезу, что в среднем чеке есть различия. Однако средний чек группы B выше среднего чека группы A на 25,9%."
   ]
  },
  {
   "cell_type": "markdown",
   "metadata": {},
   "source": [
    "Теперь посчитаем статистическую значимость различий в среднем количестве заказов на посетителя между группами по «очищенным» данным. Для начала узнаем: сколько всего аномальных пользователей."
   ]
  },
  {
   "cell_type": "code",
   "execution_count": 32,
   "metadata": {},
   "outputs": [
    {
     "data": {
      "text/plain": [
       "1099    148427295\n",
       "18      199603092\n",
       "928     204675465\n",
       "23      237748145\n",
       "37      249864742\n",
       "dtype: int64"
      ]
     },
     "metadata": {},
     "output_type": "display_data"
    },
    {
     "name": "stdout",
     "output_type": "stream",
     "text": [
      "Всего 74 аномальных пользователя\n"
     ]
    }
   ],
   "source": [
    "users_with_many_orders = pd.concat(\n",
    "    [\n",
    "        orders_by_users_A[orders_by_users_A['orders'] > np.percentile(orders_by_users['orders'], 95)]['user_id'],\n",
    "        orders_by_users_B[orders_by_users_B['orders'] > np.percentile(orders_by_users['orders'], 95)]['user_id'],\n",
    "    ],\n",
    "    axis=0,\n",
    ")\n",
    "users_with_expensive_orders = orders[orders['revenue'] > np.percentile(orders['revenue'], 95)]['visitor_id']\n",
    "abnormal_users = (\n",
    "    pd.concat([users_with_many_orders, users_with_expensive_orders], axis=0)\n",
    "    .drop_duplicates()\n",
    "    .sort_values()\n",
    ")\n",
    "display(abnormal_users.head(5))\n",
    "print(\"Всего {0:.0f} аномальных пользователя\".format(abnormal_users.shape[0]))"
   ]
  },
  {
   "cell_type": "code",
   "execution_count": 33,
   "metadata": {},
   "outputs": [
    {
     "name": "stdout",
     "output_type": "stream",
     "text": [
      "P-value равен 0.013\n",
      "Относительный прирост среднего числа заказов группы B равен 0.173\n"
     ]
    }
   ],
   "source": [
    "# создадим переменные sample_A_filtered и sample_B_filtered, в которых сохраним очищенные данные о заказах — \n",
    "# не включая аномальных пользователей\n",
    "sample_A_filtered = pd.concat(\n",
    "    [orders_by_users_A[np.logical_not(orders_by_users_A['user_id'].isin(abnormal_users))]['orders'], \n",
    "     pd.Series(0,index=np.arange(visitors_A_daily['visitors_per_date_A'].sum()-\n",
    "                                 len(orders_by_users_A['orders'])), name='orders')], axis=0)\n",
    "\n",
    "sample_B_filtered = pd.concat(\n",
    "    [orders_by_users_B[np.logical_not(orders_by_users_B['user_id'].isin(abnormal_users))]['orders'], \n",
    "     pd.Series(0, index=np.arange(visitors_B_daily['visitors_per_date_B'].sum()-\n",
    "                                  len(orders_by_users_B['orders'])), name='orders')], axis=0)\n",
    "\n",
    "# применим статистический критерий Манна-Уитни к полученным выборкам\n",
    "print(\"P-value равен {0:.3f}\".format(st.mannwhitneyu(sample_A_filtered, sample_B_filtered)[1]))\n",
    "print(\"Относительный прирост среднего числа заказов группы B равен {0:.3f}\".format(sample_B_filtered.mean()/\n",
    "                                                                                   sample_A_filtered.mean()-1))"
   ]
  },
  {
   "cell_type": "markdown",
   "metadata": {},
   "source": [
    "**Вывод**\n",
    "\n",
    "По «очищенным» данным различия в среднем числе заказов групп A и B есть: p-value меньше 5% (p-value равен 1,3%). Значит, нулевую гипотезу о том, что различий в среднем количестве заказов между группами нет, отвергаем. Относительный выигрыш группы B увеличился по сравнению с \"сырыми\" данными и равен 17,3%."
   ]
  },
  {
   "cell_type": "markdown",
   "metadata": {},
   "source": [
    "Теперь посчитайте статистическую значимость различий в среднем чеке заказа между группами по «очищенным» данным."
   ]
  },
  {
   "cell_type": "code",
   "execution_count": 34,
   "metadata": {},
   "outputs": [
    {
     "name": "stdout",
     "output_type": "stream",
     "text": [
      "P-value равен 0.738\n",
      "Относительный прирост среднего чека группы B равен -0.020\n"
     ]
    }
   ],
   "source": [
    "print(\n",
    "    \"P-value равен {0:.3f}\".format(\n",
    "        st.mannwhitneyu(orders[np.logical_and(orders['group'] == 'A', \n",
    "                            np.logical_not(orders['visitor_id'].isin(abnormal_users)))]['revenue'], \n",
    "                                orders[np.logical_and(orders['group'] == 'B', \n",
    "                                    np.logical_not(orders['visitor_id'].isin(abnormal_users)))]['revenue'])[1])\n",
    ")\n",
    "\n",
    "print(\n",
    "    \"Относительный прирост среднего чека группы B равен {0:.3f}\".format(\n",
    "        orders[np.logical_and(orders['group'] == 'B', \n",
    "                              np.logical_not(orders['visitor_id'].isin(abnormal_users)))]['revenue'].mean()\n",
    "        / orders[np.logical_and(orders['group'] == 'A', \n",
    "                                np.logical_not(orders['visitor_id'].isin(abnormal_users)))]['revenue'].mean()-1)\n",
    ")"
   ]
  },
  {
   "cell_type": "markdown",
   "metadata": {},
   "source": [
    "**Вывод**\n",
    "\n",
    "По \"очищенным\" данным различий в среднем чеке между группами А и В нет: р-value значительно больше 5% (р-value равен 73,8%). Значит, причин отвергать нулевую гипотезу и считать, что в среднем чеке есть различия, нет. При этом средний чек группы B без выбросов стал меньше среднего чека группы A на 2%."
   ]
  },
  {
   "cell_type": "markdown",
   "metadata": {},
   "source": [
    "## Принятие решения по результатам теста."
   ]
  },
  {
   "cell_type": "markdown",
   "metadata": {},
   "source": [
    "Так как выручка в обеих группах на протяжении всего теста возрастает, а после 13ого августа видно, что выручка в группе В больше по сравнению с выручкой группы А.\n",
    "\n",
    "С начала теста среднее количество заказов на посетителя группы А было больше среднего количества заказов на посетителя группы В, но после 3его августа оно начало снижаться. Средне количество заказов на посетителя группы В в начале сильно колебалось, а после 6ого августа стало больше среднего количества заказов на посетителя группы А и было стабильно выше на протяжении проведения всего теста.\n",
    "\n",
    "Есть статистически значимое различие по среднему количеству заказов между группами А и В и по «сырым», и по данным после фильтрации аномалий. Относительный выигрыш группы B равен 13,8% при \"сырых данных\" и относительный выигрыш группы B \"очищенными\" данными равен 17,3%.\n",
    "\n",
    "Нет статистически значимого различия по среднему чеку между группами ни по «сырым», ни по данным после фильтрации аномалий. Однако по \"сырым\" данным средний чек группы B выше среднего чека группы A на 25,9%, а по \"очищенным\" данным средний чек группы B стал меньше среднего чека группы A на 2%.\n",
    "\n",
    "А вот график относительного изменения кумулятивного среднего чека группы B к группе A сильно «скачет», благодаря чему мы нашли выбросы. Сделать из этого графика определённые выводы нельзя.\n",
    "\n",
    "Исходя из выше перечисленных фактов, можно сделать вывод: остановить тест и зафиксировать победу за группой В."
   ]
  },
  {
   "cell_type": "markdown",
   "metadata": {},
   "source": [
    "## Итоговый вывод"
   ]
  },
  {
   "cell_type": "markdown",
   "metadata": {},
   "source": [
    "Мы загрузили данные о гипотезах, заказах и данные А/В-теста из CSV-файлов в переменные hypothesis, orders и visitors. Изучив информацию о данных, сделали предобработку данных: привели все названия к единому регистру написания, изменили тип данных в столбцах 'date'в датафреймах 'orders' и 'visitors' во временной тип данных. Также проверили, что в датафреймах отсутствуют явные дубликаты.\n",
    "\n",
    "Мы применили метод ICE к датафрейму 'hypothesis' для приоритизации гипотез и наиболее перспективные гипотезы по ICE: 8, 0 и 7 (16, 13 и 11 ICE соответвенно). А при применении метода RICE к датафрейму с гипотезами наиболее перспективные гипотезы - это 7, 2, 0 и 6 (112, 56, 40 и 40 RICE соответсвенно).\n",
    "\n",
    "Самыми приоритетными гипотезами будут гипотезы 7 (\"Добавить форму подписки на все основные страницы, чтобы собрать базу клиентов для email-рассылок\") и 0 (\"Добавить два новых канала привлечения трафика, что позволит привлекать на 30% больше пользователей\"), так как они перспективны и по ICE, и по RICE. Гипотеза №7 самая приоритетная, так как она охватит максимальное количество пользователей интернет-магазина и большая их часть подпишется на email-рассылку, при этом затраты на реализацию этой гипотезы будут средние. Вторая по приоритету гипотеза №0: хоть по количеству будет меньше пользователей, но это будут новые пользователи, привлеченные из двух новых источников трафика, но затраты на реализацию этой гипотезы будут немного выше, чем на реализацию 7ой гипотезы.\n",
    "\n",
    "Гипотеза №2 (\"Добавить блоки рекомендаций товаров на сайт интернет-магазина, чтобы повысить конверсию и средний чек заказа\") при расчете RICE стала второй по приорететам, хотя при расчете ICE была пятой. Это случилось из-за того, что блоки рекомендаций товаров на сайт интернет-магазина увидит большее количество пользователей. При расчете ICE этот показатель не был учтен.\n",
    "\n",
    "Гипотеза №8 (\"Запустить акцию, дающую скидку на товар в день рождения\") при расчете RICE стала пятой по приорететам, хотя при расчете ICE была первой. Так произошло из-за того, что день рождения у разных пользователей бывает в разные дни. Поэтому данная гипотеза охватывает очень малое количество пользователей в определенные дни, хотя подобная акция очень сильно повлияет на поведение пользователей.\n",
    "\n",
    "Гипотеза №6 (\"Показать на главной странице баннеры с актуальными акциями и распродажами, чтобы увеличить конверсию\") при расчете RICE тоже на четвертом месте по приорететам, как и при расчете ICE.\n",
    "\n",
    "Выручка в обеих группах возрастает на протяжении всего теста. Согласно графику до 5ого августа включительно выручка в группах примерно одинаково возрастает, а после выручка в группе В немного больше, чем в группе А. 13 августа 2019 года выручка в обеих группах снова практически одинаковая. Дальше по графику видно, что выручка в группе В увеличивается, а после 18 августа происходит резкий скачок выручки в этой группе, в то время, как выручка в группе А растет без резких всплесков. Возможно в период с 18 по 19 августа пользователи группы В совершили крупные заказы в интернет-магазине либо количество заказов в этой группе увеличилось, что и дало такой резкий рост выручки.\n",
    "\n",
    "В начале теста средний чек в группе А упал, а в период с 6 по 13 августа наблюдается рост среднего чека в этой группе. Далее в период с 16 по 25 авгучта средний чек в группе А стабилизировался, а к концу теста виден небольшой рост среднего чека в этой группе. В группе В в начале теста виден резкий рост среднего чека и небольшой спад 5ого августа, после чего средний чек в этой группе снова стал возрастать. В период с 15 по 18 августа средний чек в группе В стабилизировался, а после резко увеличился. После 19 августа наблюдается падение среднего чека в группе В до конца теста. Вероятно такие всплески роста среднего чека в группе В обусловлены крупными заказами в эти периоды.\n",
    "\n",
    "С начала теста среднее количество заказов на посетителя группы А было больше среднего количества заказов на посетителя группы В, но после 3его августа оно начало снижаться. Средне количество заказов на посетителя группы В в начале сильно колебалось, а после 6ого августа стало больше среднего количества заказов на посетителя группы А и было стабильно выше на протяжении проведения всего теста.\n",
    "\n",
    "В начале теста прирост среднего количества заказов на посетителя группы В был ниже прироста группы А. После 5ого августа прирост среднего количества заказов на посетителя группы В стал расти относительно группы А и был выше в период с 8ого августа по 23е августа. Далее прирост среднего количества заказов на посетителя группы В стал почти близок к приросту среднего количества заказов группы А, а к концу теста снова стал увеличиваться.\n",
    "\n",
    "Большинство пользователей сделали 1 заказ. Есть несколько пользователей, которые сделали от 2х до 3х заказов. А также согласно точечной диаграмме, два пользователя совершили по 11 заказов, один пользователей - 9 заказов, один пользователей - 8 заказов, 6 пользователей - по 5 заказов и три пользователя - по 4 заказа.\n",
    "\n",
    "Не более 5% пользователей оформили 2 заказа и 1% пользователей, которые оформили 4 заказа. Следует отсеять пользователей, которые совершили от 2х до 11ти заказов.\n",
    "\n",
    "По точечной диаграмме видно, что есть заказ стоимостью более 1.2 млн. Такой заказ выглядит аномально. Вероятно он и оказывает влияние на скачки на графиках кумулятивных данных.\n",
    "\n",
    "Не более 5% пользователей оформили заказы стоимостью 28 000 и 1% пользователей, которые оформили заказы стоимостью 58 233,2. Следует отсеять пользователей, которые совершили заказы стоимостью от 28 000.\n",
    "\n",
    "Есть статистически значимое различие по среднему количеству заказов между группами А и В и по «сырым», и по данным после фильтрации аномалий. Относительный выигрыш группы B равен 13,8% при \"сырых данных\" и относительный выигрыш группы B \"очищенными\" данными равен 17,3%.\n",
    "\n",
    "Нет статистически значимого различия по среднему чеку между группами ни по «сырым», ни по данным после фильтрации аномалий. Однако по \"сырым\" данным средний чек группы B выше среднего чека группы A на 25,9%, а по \"очищенным\" данным средний чек группы B стал меньше среднего чека группы A на 2%.\n",
    "\n",
    "А вот график относительного изменения кумулятивного среднего чека группы B к группе A сильно «скачет», благодаря чему мы нашли выбросы. Сделать из этого графика определённые выводы нельзя.\n",
    "\n",
    "Исходя из выше перечисленных фактов, можно сделать вывод: остановить тест и зафиксировать победу за группой В.</div>"
   ]
  }
 ],
 "metadata": {
  "ExecuteTimeLog": [
   {
    "duration": 1251,
    "start_time": "2023-01-09T12:10:29.210Z"
   },
   {
    "duration": 229,
    "start_time": "2023-01-09T12:26:27.985Z"
   },
   {
    "duration": 12,
    "start_time": "2023-01-09T12:27:04.897Z"
   },
   {
    "duration": 8,
    "start_time": "2023-01-09T12:27:32.623Z"
   },
   {
    "duration": 10,
    "start_time": "2023-01-09T12:27:44.192Z"
   },
   {
    "duration": 9,
    "start_time": "2023-01-09T14:09:09.000Z"
   },
   {
    "duration": 8,
    "start_time": "2023-01-09T14:09:29.094Z"
   },
   {
    "duration": 9,
    "start_time": "2023-01-09T14:09:40.246Z"
   },
   {
    "duration": 12,
    "start_time": "2023-01-09T14:10:10.380Z"
   },
   {
    "duration": 14,
    "start_time": "2023-01-09T14:10:24.884Z"
   },
   {
    "duration": 10,
    "start_time": "2023-01-09T14:10:36.228Z"
   },
   {
    "duration": 8,
    "start_time": "2023-01-09T14:11:28.997Z"
   },
   {
    "duration": 8,
    "start_time": "2023-01-09T14:11:45.836Z"
   },
   {
    "duration": 108,
    "start_time": "2023-01-09T14:12:16.234Z"
   },
   {
    "duration": 23,
    "start_time": "2023-01-09T14:12:38.982Z"
   },
   {
    "duration": 7,
    "start_time": "2023-01-09T14:13:22.940Z"
   },
   {
    "duration": 7,
    "start_time": "2023-01-09T14:13:41.189Z"
   },
   {
    "duration": 5,
    "start_time": "2023-01-09T14:13:51.316Z"
   },
   {
    "duration": 13,
    "start_time": "2023-01-09T16:19:54.325Z"
   },
   {
    "duration": 11,
    "start_time": "2023-01-09T16:20:42.088Z"
   },
   {
    "duration": 199,
    "start_time": "2023-01-09T16:21:26.111Z"
   },
   {
    "duration": 51,
    "start_time": "2023-01-11T19:32:40.298Z"
   },
   {
    "duration": 1346,
    "start_time": "2023-01-11T19:32:48.393Z"
   },
   {
    "duration": 277,
    "start_time": "2023-01-11T19:32:49.741Z"
   },
   {
    "duration": 17,
    "start_time": "2023-01-11T19:32:50.020Z"
   },
   {
    "duration": 38,
    "start_time": "2023-01-11T19:32:50.040Z"
   },
   {
    "duration": 28,
    "start_time": "2023-01-11T19:32:50.081Z"
   },
   {
    "duration": 32,
    "start_time": "2023-01-11T19:32:50.112Z"
   },
   {
    "duration": 23,
    "start_time": "2023-01-11T19:32:50.147Z"
   },
   {
    "duration": 20,
    "start_time": "2023-01-11T19:32:50.173Z"
   },
   {
    "duration": 19,
    "start_time": "2023-01-11T19:32:50.195Z"
   },
   {
    "duration": 20,
    "start_time": "2023-01-11T19:32:50.216Z"
   },
   {
    "duration": 29,
    "start_time": "2023-01-11T19:32:50.238Z"
   },
   {
    "duration": 13,
    "start_time": "2023-01-11T19:32:50.269Z"
   },
   {
    "duration": 16,
    "start_time": "2023-01-11T19:32:50.284Z"
   },
   {
    "duration": 9,
    "start_time": "2023-01-11T19:32:50.301Z"
   },
   {
    "duration": 37,
    "start_time": "2023-01-11T19:32:50.313Z"
   },
   {
    "duration": 14,
    "start_time": "2023-01-11T19:32:50.353Z"
   },
   {
    "duration": 276,
    "start_time": "2023-01-11T19:32:50.369Z"
   },
   {
    "duration": 325,
    "start_time": "2023-01-11T19:32:50.647Z"
   },
   {
    "duration": 225,
    "start_time": "2023-01-11T19:34:14.294Z"
   },
   {
    "duration": 313,
    "start_time": "2023-01-11T19:34:23.788Z"
   },
   {
    "duration": 302,
    "start_time": "2023-01-11T19:34:28.877Z"
   },
   {
    "duration": 291,
    "start_time": "2023-01-11T19:35:52.289Z"
   },
   {
    "duration": 421,
    "start_time": "2023-01-11T19:37:34.007Z"
   },
   {
    "duration": 243,
    "start_time": "2023-01-11T19:38:27.279Z"
   },
   {
    "duration": 340,
    "start_time": "2023-01-11T19:39:28.160Z"
   },
   {
    "duration": 14,
    "start_time": "2023-01-11T19:40:35.892Z"
   },
   {
    "duration": 123,
    "start_time": "2023-01-11T19:40:57.478Z"
   },
   {
    "duration": 69,
    "start_time": "2023-01-11T19:41:52.007Z"
   },
   {
    "duration": 223,
    "start_time": "2023-01-11T19:42:53.029Z"
   },
   {
    "duration": 5,
    "start_time": "2023-01-11T19:43:32.056Z"
   },
   {
    "duration": 145,
    "start_time": "2023-01-11T19:44:57.556Z"
   },
   {
    "duration": 6,
    "start_time": "2023-01-11T19:45:36.312Z"
   },
   {
    "duration": 246,
    "start_time": "2023-01-11T19:46:55.135Z"
   },
   {
    "duration": 173,
    "start_time": "2023-01-11T19:47:32.815Z"
   },
   {
    "duration": 191,
    "start_time": "2023-01-11T19:47:42.673Z"
   },
   {
    "duration": 10,
    "start_time": "2023-01-11T19:48:33.405Z"
   },
   {
    "duration": 14,
    "start_time": "2023-01-11T19:49:42.455Z"
   },
   {
    "duration": 29,
    "start_time": "2023-01-11T19:50:01.260Z"
   },
   {
    "duration": 16,
    "start_time": "2023-01-11T19:50:48.814Z"
   },
   {
    "duration": 4,
    "start_time": "2023-01-11T19:54:25.202Z"
   },
   {
    "duration": 83,
    "start_time": "2023-01-11T19:54:25.208Z"
   },
   {
    "duration": 8,
    "start_time": "2023-01-11T19:54:25.293Z"
   },
   {
    "duration": 18,
    "start_time": "2023-01-11T19:54:25.304Z"
   },
   {
    "duration": 13,
    "start_time": "2023-01-11T19:54:25.324Z"
   },
   {
    "duration": 16,
    "start_time": "2023-01-11T19:54:25.339Z"
   },
   {
    "duration": 18,
    "start_time": "2023-01-11T19:54:25.357Z"
   },
   {
    "duration": 24,
    "start_time": "2023-01-11T19:54:25.377Z"
   },
   {
    "duration": 12,
    "start_time": "2023-01-11T19:54:25.403Z"
   },
   {
    "duration": 12,
    "start_time": "2023-01-11T19:54:25.417Z"
   },
   {
    "duration": 21,
    "start_time": "2023-01-11T19:54:25.434Z"
   },
   {
    "duration": 5,
    "start_time": "2023-01-11T19:54:25.457Z"
   },
   {
    "duration": 13,
    "start_time": "2023-01-11T19:54:25.464Z"
   },
   {
    "duration": 6,
    "start_time": "2023-01-11T19:54:25.478Z"
   },
   {
    "duration": 25,
    "start_time": "2023-01-11T19:54:25.486Z"
   },
   {
    "duration": 34,
    "start_time": "2023-01-11T19:54:25.512Z"
   },
   {
    "duration": 252,
    "start_time": "2023-01-11T19:54:25.548Z"
   },
   {
    "duration": 317,
    "start_time": "2023-01-11T19:54:25.802Z"
   },
   {
    "duration": 240,
    "start_time": "2023-01-11T19:54:26.121Z"
   },
   {
    "duration": 234,
    "start_time": "2023-01-11T19:54:26.363Z"
   },
   {
    "duration": 355,
    "start_time": "2023-01-11T19:54:26.599Z"
   },
   {
    "duration": 249,
    "start_time": "2023-01-11T19:54:26.956Z"
   },
   {
    "duration": 386,
    "start_time": "2023-01-11T19:54:27.207Z"
   },
   {
    "duration": 11,
    "start_time": "2023-01-11T19:54:27.596Z"
   },
   {
    "duration": 162,
    "start_time": "2023-01-11T19:54:27.609Z"
   },
   {
    "duration": 6,
    "start_time": "2023-01-11T19:54:27.773Z"
   },
   {
    "duration": 176,
    "start_time": "2023-01-11T19:54:27.781Z"
   },
   {
    "duration": 6,
    "start_time": "2023-01-11T19:54:27.960Z"
   },
   {
    "duration": 335,
    "start_time": "2023-01-11T19:54:27.968Z"
   },
   {
    "duration": 180,
    "start_time": "2023-01-11T19:54:28.304Z"
   },
   {
    "duration": 13,
    "start_time": "2023-01-11T19:54:28.486Z"
   },
   {
    "duration": 18,
    "start_time": "2023-01-11T19:54:28.501Z"
   },
   {
    "duration": 54,
    "start_time": "2023-01-11T19:54:28.535Z"
   },
   {
    "duration": 14,
    "start_time": "2023-01-11T19:54:28.592Z"
   },
   {
    "duration": 1149,
    "start_time": "2023-01-12T08:13:51.720Z"
   },
   {
    "duration": 74,
    "start_time": "2023-01-12T08:13:52.872Z"
   },
   {
    "duration": 12,
    "start_time": "2023-01-12T08:13:52.948Z"
   },
   {
    "duration": 10,
    "start_time": "2023-01-12T08:13:52.962Z"
   },
   {
    "duration": 21,
    "start_time": "2023-01-12T08:13:52.974Z"
   },
   {
    "duration": 17,
    "start_time": "2023-01-12T08:13:52.997Z"
   },
   {
    "duration": 18,
    "start_time": "2023-01-12T08:13:53.016Z"
   },
   {
    "duration": 15,
    "start_time": "2023-01-12T08:13:53.036Z"
   },
   {
    "duration": 24,
    "start_time": "2023-01-12T08:13:53.052Z"
   },
   {
    "duration": 37,
    "start_time": "2023-01-12T08:13:53.079Z"
   },
   {
    "duration": 26,
    "start_time": "2023-01-12T08:13:53.118Z"
   },
   {
    "duration": 6,
    "start_time": "2023-01-12T08:13:53.146Z"
   },
   {
    "duration": 12,
    "start_time": "2023-01-12T08:13:53.153Z"
   },
   {
    "duration": 6,
    "start_time": "2023-01-12T08:13:53.167Z"
   },
   {
    "duration": 25,
    "start_time": "2023-01-12T08:13:53.175Z"
   },
   {
    "duration": 12,
    "start_time": "2023-01-12T08:13:53.202Z"
   },
   {
    "duration": 225,
    "start_time": "2023-01-12T08:13:53.215Z"
   },
   {
    "duration": 301,
    "start_time": "2023-01-12T08:13:53.442Z"
   },
   {
    "duration": 322,
    "start_time": "2023-01-12T08:13:53.745Z"
   },
   {
    "duration": 220,
    "start_time": "2023-01-12T08:13:54.069Z"
   },
   {
    "duration": 330,
    "start_time": "2023-01-12T08:13:54.290Z"
   },
   {
    "duration": 225,
    "start_time": "2023-01-12T08:13:54.622Z"
   },
   {
    "duration": 354,
    "start_time": "2023-01-12T08:13:54.849Z"
   },
   {
    "duration": 12,
    "start_time": "2023-01-12T08:13:55.206Z"
   },
   {
    "duration": 138,
    "start_time": "2023-01-12T08:13:55.220Z"
   },
   {
    "duration": 5,
    "start_time": "2023-01-12T08:13:55.360Z"
   },
   {
    "duration": 146,
    "start_time": "2023-01-12T08:13:55.367Z"
   },
   {
    "duration": 6,
    "start_time": "2023-01-12T08:13:55.516Z"
   },
   {
    "duration": 330,
    "start_time": "2023-01-12T08:13:55.523Z"
   },
   {
    "duration": 215,
    "start_time": "2023-01-12T08:13:55.855Z"
   },
   {
    "duration": 24,
    "start_time": "2023-01-12T08:13:56.072Z"
   },
   {
    "duration": 14,
    "start_time": "2023-01-12T08:13:56.099Z"
   },
   {
    "duration": 48,
    "start_time": "2023-01-12T08:13:56.115Z"
   },
   {
    "duration": 42,
    "start_time": "2023-01-12T08:13:56.166Z"
   },
   {
    "duration": 54,
    "start_time": "2023-01-12T09:21:30.045Z"
   },
   {
    "duration": 3,
    "start_time": "2023-01-12T09:27:14.922Z"
   },
   {
    "duration": 8,
    "start_time": "2023-01-12T09:28:52.948Z"
   },
   {
    "duration": 1373,
    "start_time": "2023-01-12T09:29:16.102Z"
   },
   {
    "duration": 247,
    "start_time": "2023-01-12T09:29:17.478Z"
   },
   {
    "duration": 11,
    "start_time": "2023-01-12T09:29:17.727Z"
   },
   {
    "duration": 10,
    "start_time": "2023-01-12T09:29:17.741Z"
   },
   {
    "duration": 13,
    "start_time": "2023-01-12T09:29:17.753Z"
   },
   {
    "duration": 17,
    "start_time": "2023-01-12T09:29:17.768Z"
   },
   {
    "duration": 14,
    "start_time": "2023-01-12T09:29:17.787Z"
   },
   {
    "duration": 36,
    "start_time": "2023-01-12T09:29:17.802Z"
   },
   {
    "duration": 12,
    "start_time": "2023-01-12T09:29:17.840Z"
   },
   {
    "duration": 22,
    "start_time": "2023-01-12T09:29:17.855Z"
   },
   {
    "duration": 33,
    "start_time": "2023-01-12T09:29:17.879Z"
   },
   {
    "duration": 23,
    "start_time": "2023-01-12T09:29:17.914Z"
   },
   {
    "duration": 9,
    "start_time": "2023-01-12T09:29:17.940Z"
   },
   {
    "duration": 8,
    "start_time": "2023-01-12T09:29:17.951Z"
   },
   {
    "duration": 25,
    "start_time": "2023-01-12T09:29:17.961Z"
   },
   {
    "duration": 12,
    "start_time": "2023-01-12T09:29:17.988Z"
   },
   {
    "duration": 240,
    "start_time": "2023-01-12T09:29:18.002Z"
   },
   {
    "duration": 295,
    "start_time": "2023-01-12T09:29:18.243Z"
   },
   {
    "duration": 324,
    "start_time": "2023-01-12T09:29:18.540Z"
   },
   {
    "duration": 319,
    "start_time": "2023-01-12T09:29:18.867Z"
   },
   {
    "duration": 409,
    "start_time": "2023-01-12T09:29:19.189Z"
   },
   {
    "duration": 3,
    "start_time": "2023-01-12T09:29:19.600Z"
   },
   {
    "duration": 284,
    "start_time": "2023-01-12T09:29:19.604Z"
   },
   {
    "duration": 89,
    "start_time": "2023-01-12T09:29:19.890Z"
   },
   {
    "duration": 0,
    "start_time": "2023-01-12T09:29:19.981Z"
   },
   {
    "duration": 0,
    "start_time": "2023-01-12T09:29:19.983Z"
   },
   {
    "duration": 0,
    "start_time": "2023-01-12T09:29:19.985Z"
   },
   {
    "duration": 0,
    "start_time": "2023-01-12T09:29:19.986Z"
   },
   {
    "duration": 0,
    "start_time": "2023-01-12T09:29:19.987Z"
   },
   {
    "duration": 0,
    "start_time": "2023-01-12T09:29:19.989Z"
   },
   {
    "duration": 0,
    "start_time": "2023-01-12T09:29:19.990Z"
   },
   {
    "duration": 0,
    "start_time": "2023-01-12T09:29:19.991Z"
   },
   {
    "duration": 0,
    "start_time": "2023-01-12T09:29:19.993Z"
   },
   {
    "duration": 0,
    "start_time": "2023-01-12T09:29:19.994Z"
   },
   {
    "duration": 0,
    "start_time": "2023-01-12T09:29:19.995Z"
   },
   {
    "duration": 2,
    "start_time": "2023-01-12T09:34:09.716Z"
   },
   {
    "duration": 373,
    "start_time": "2023-01-12T09:37:01.469Z"
   },
   {
    "duration": 6,
    "start_time": "2023-01-12T10:03:12.153Z"
   },
   {
    "duration": 92,
    "start_time": "2023-01-12T10:03:12.169Z"
   },
   {
    "duration": 12,
    "start_time": "2023-01-12T10:03:12.264Z"
   },
   {
    "duration": 12,
    "start_time": "2023-01-12T10:03:12.278Z"
   },
   {
    "duration": 12,
    "start_time": "2023-01-12T10:03:12.293Z"
   },
   {
    "duration": 32,
    "start_time": "2023-01-12T10:03:12.307Z"
   },
   {
    "duration": 12,
    "start_time": "2023-01-12T10:03:12.341Z"
   },
   {
    "duration": 18,
    "start_time": "2023-01-12T10:03:12.355Z"
   },
   {
    "duration": 12,
    "start_time": "2023-01-12T10:03:12.375Z"
   },
   {
    "duration": 16,
    "start_time": "2023-01-12T10:03:12.389Z"
   },
   {
    "duration": 52,
    "start_time": "2023-01-12T10:03:12.408Z"
   },
   {
    "duration": 7,
    "start_time": "2023-01-12T10:03:12.463Z"
   },
   {
    "duration": 12,
    "start_time": "2023-01-12T10:03:12.472Z"
   },
   {
    "duration": 24,
    "start_time": "2023-01-12T10:03:12.487Z"
   },
   {
    "duration": 33,
    "start_time": "2023-01-12T10:03:12.514Z"
   },
   {
    "duration": 21,
    "start_time": "2023-01-12T10:03:12.550Z"
   },
   {
    "duration": 215,
    "start_time": "2023-01-12T10:03:12.572Z"
   },
   {
    "duration": 390,
    "start_time": "2023-01-12T10:03:12.790Z"
   },
   {
    "duration": 265,
    "start_time": "2023-01-12T10:03:13.182Z"
   },
   {
    "duration": 270,
    "start_time": "2023-01-12T10:03:13.449Z"
   },
   {
    "duration": 375,
    "start_time": "2023-01-12T10:03:13.721Z"
   },
   {
    "duration": 4,
    "start_time": "2023-01-12T10:03:14.098Z"
   },
   {
    "duration": 278,
    "start_time": "2023-01-12T10:03:14.104Z"
   },
   {
    "duration": 3,
    "start_time": "2023-01-12T10:03:14.384Z"
   },
   {
    "duration": 433,
    "start_time": "2023-01-12T10:03:14.389Z"
   },
   {
    "duration": 17,
    "start_time": "2023-01-12T10:03:14.824Z"
   },
   {
    "duration": 165,
    "start_time": "2023-01-12T10:03:14.843Z"
   },
   {
    "duration": 8,
    "start_time": "2023-01-12T10:03:15.010Z"
   },
   {
    "duration": 155,
    "start_time": "2023-01-12T10:03:15.039Z"
   },
   {
    "duration": 5,
    "start_time": "2023-01-12T10:03:15.196Z"
   },
   {
    "duration": 262,
    "start_time": "2023-01-12T10:03:15.203Z"
   },
   {
    "duration": 194,
    "start_time": "2023-01-12T10:03:15.467Z"
   },
   {
    "duration": 13,
    "start_time": "2023-01-12T10:03:15.664Z"
   },
   {
    "duration": 4,
    "start_time": "2023-01-12T10:03:15.679Z"
   },
   {
    "duration": 35,
    "start_time": "2023-01-12T10:03:15.685Z"
   },
   {
    "duration": 0,
    "start_time": "2023-01-12T10:03:15.738Z"
   },
   {
    "duration": 0,
    "start_time": "2023-01-12T10:03:15.739Z"
   },
   {
    "duration": 16,
    "start_time": "2023-01-12T10:09:02.072Z"
   },
   {
    "duration": 27,
    "start_time": "2023-01-12T10:12:30.196Z"
   },
   {
    "duration": 4,
    "start_time": "2023-01-12T10:12:42.936Z"
   },
   {
    "duration": 91,
    "start_time": "2023-01-12T10:12:42.942Z"
   },
   {
    "duration": 8,
    "start_time": "2023-01-12T10:12:43.035Z"
   },
   {
    "duration": 12,
    "start_time": "2023-01-12T10:12:43.045Z"
   },
   {
    "duration": 12,
    "start_time": "2023-01-12T10:12:43.058Z"
   },
   {
    "duration": 15,
    "start_time": "2023-01-12T10:12:43.072Z"
   },
   {
    "duration": 24,
    "start_time": "2023-01-12T10:12:43.089Z"
   },
   {
    "duration": 23,
    "start_time": "2023-01-12T10:12:43.115Z"
   },
   {
    "duration": 8,
    "start_time": "2023-01-12T10:12:43.140Z"
   },
   {
    "duration": 13,
    "start_time": "2023-01-12T10:12:43.152Z"
   },
   {
    "duration": 30,
    "start_time": "2023-01-12T10:12:43.167Z"
   },
   {
    "duration": 6,
    "start_time": "2023-01-12T10:12:43.199Z"
   },
   {
    "duration": 35,
    "start_time": "2023-01-12T10:12:43.207Z"
   },
   {
    "duration": 13,
    "start_time": "2023-01-12T10:12:43.244Z"
   },
   {
    "duration": 23,
    "start_time": "2023-01-12T10:12:43.259Z"
   },
   {
    "duration": 17,
    "start_time": "2023-01-12T10:12:43.283Z"
   },
   {
    "duration": 229,
    "start_time": "2023-01-12T10:12:43.303Z"
   },
   {
    "duration": 321,
    "start_time": "2023-01-12T10:12:43.537Z"
   },
   {
    "duration": 253,
    "start_time": "2023-01-12T10:12:43.861Z"
   },
   {
    "duration": 261,
    "start_time": "2023-01-12T10:12:44.116Z"
   },
   {
    "duration": 411,
    "start_time": "2023-01-12T10:12:44.379Z"
   },
   {
    "duration": 3,
    "start_time": "2023-01-12T10:12:44.792Z"
   },
   {
    "duration": 250,
    "start_time": "2023-01-12T10:12:44.796Z"
   },
   {
    "duration": 3,
    "start_time": "2023-01-12T10:12:45.048Z"
   },
   {
    "duration": 383,
    "start_time": "2023-01-12T10:12:45.052Z"
   },
   {
    "duration": 14,
    "start_time": "2023-01-12T10:12:45.437Z"
   },
   {
    "duration": 151,
    "start_time": "2023-01-12T10:12:45.452Z"
   },
   {
    "duration": 5,
    "start_time": "2023-01-12T10:12:45.606Z"
   },
   {
    "duration": 174,
    "start_time": "2023-01-12T10:12:45.613Z"
   },
   {
    "duration": 6,
    "start_time": "2023-01-12T10:12:45.789Z"
   },
   {
    "duration": 272,
    "start_time": "2023-01-12T10:12:45.797Z"
   },
   {
    "duration": 178,
    "start_time": "2023-01-12T10:12:46.071Z"
   },
   {
    "duration": 13,
    "start_time": "2023-01-12T10:12:46.251Z"
   },
   {
    "duration": 8,
    "start_time": "2023-01-12T10:12:46.266Z"
   },
   {
    "duration": 20,
    "start_time": "2023-01-12T10:12:46.276Z"
   },
   {
    "duration": 67,
    "start_time": "2023-01-12T10:12:46.299Z"
   },
   {
    "duration": 15,
    "start_time": "2023-01-12T10:12:46.367Z"
   },
   {
    "duration": 11,
    "start_time": "2023-01-12T10:19:01.614Z"
   },
   {
    "duration": 17,
    "start_time": "2023-01-12T10:19:35.764Z"
   },
   {
    "duration": 12,
    "start_time": "2023-01-12T10:19:53.115Z"
   },
   {
    "duration": 4,
    "start_time": "2023-01-12T10:20:30.986Z"
   },
   {
    "duration": 127,
    "start_time": "2023-01-12T10:20:30.995Z"
   },
   {
    "duration": 9,
    "start_time": "2023-01-12T10:20:31.125Z"
   },
   {
    "duration": 37,
    "start_time": "2023-01-12T10:20:31.136Z"
   },
   {
    "duration": 71,
    "start_time": "2023-01-12T10:20:31.175Z"
   },
   {
    "duration": 29,
    "start_time": "2023-01-12T10:20:31.248Z"
   },
   {
    "duration": 31,
    "start_time": "2023-01-12T10:20:31.278Z"
   },
   {
    "duration": 46,
    "start_time": "2023-01-12T10:20:31.312Z"
   },
   {
    "duration": 28,
    "start_time": "2023-01-12T10:20:31.361Z"
   },
   {
    "duration": 18,
    "start_time": "2023-01-12T10:20:31.391Z"
   },
   {
    "duration": 46,
    "start_time": "2023-01-12T10:20:31.411Z"
   },
   {
    "duration": 18,
    "start_time": "2023-01-12T10:20:31.459Z"
   },
   {
    "duration": 25,
    "start_time": "2023-01-12T10:20:31.479Z"
   },
   {
    "duration": 18,
    "start_time": "2023-01-12T10:20:31.506Z"
   },
   {
    "duration": 14,
    "start_time": "2023-01-12T10:20:31.527Z"
   },
   {
    "duration": 21,
    "start_time": "2023-01-12T10:20:31.543Z"
   },
   {
    "duration": 30,
    "start_time": "2023-01-12T10:20:31.566Z"
   },
   {
    "duration": 215,
    "start_time": "2023-01-12T10:20:31.598Z"
   },
   {
    "duration": 310,
    "start_time": "2023-01-12T10:20:31.814Z"
   },
   {
    "duration": 238,
    "start_time": "2023-01-12T10:20:32.126Z"
   },
   {
    "duration": 224,
    "start_time": "2023-01-12T10:20:32.366Z"
   },
   {
    "duration": 328,
    "start_time": "2023-01-12T10:20:32.592Z"
   },
   {
    "duration": 2,
    "start_time": "2023-01-12T10:20:32.922Z"
   },
   {
    "duration": 234,
    "start_time": "2023-01-12T10:20:32.937Z"
   },
   {
    "duration": 3,
    "start_time": "2023-01-12T10:20:33.172Z"
   },
   {
    "duration": 445,
    "start_time": "2023-01-12T10:20:33.177Z"
   },
   {
    "duration": 19,
    "start_time": "2023-01-12T10:20:33.624Z"
   },
   {
    "duration": 134,
    "start_time": "2023-01-12T10:20:33.645Z"
   },
   {
    "duration": 5,
    "start_time": "2023-01-12T10:20:33.781Z"
   },
   {
    "duration": 166,
    "start_time": "2023-01-12T10:20:33.788Z"
   },
   {
    "duration": 5,
    "start_time": "2023-01-12T10:20:33.956Z"
   },
   {
    "duration": 264,
    "start_time": "2023-01-12T10:20:33.963Z"
   },
   {
    "duration": 217,
    "start_time": "2023-01-12T10:20:34.229Z"
   },
   {
    "duration": 13,
    "start_time": "2023-01-12T10:20:34.449Z"
   },
   {
    "duration": 3,
    "start_time": "2023-01-12T10:20:34.465Z"
   },
   {
    "duration": 26,
    "start_time": "2023-01-12T10:20:34.470Z"
   },
   {
    "duration": 61,
    "start_time": "2023-01-12T10:20:34.497Z"
   },
   {
    "duration": 20,
    "start_time": "2023-01-12T10:20:34.560Z"
   },
   {
    "duration": 12,
    "start_time": "2023-01-12T10:32:44.756Z"
   },
   {
    "duration": 10,
    "start_time": "2023-01-12T10:33:04.495Z"
   },
   {
    "duration": 10,
    "start_time": "2023-01-12T10:33:44.689Z"
   },
   {
    "duration": 10,
    "start_time": "2023-01-12T10:34:15.388Z"
   },
   {
    "duration": 18,
    "start_time": "2023-01-12T10:53:03.947Z"
   },
   {
    "duration": 25,
    "start_time": "2023-01-12T10:58:38.635Z"
   },
   {
    "duration": 25,
    "start_time": "2023-01-12T11:08:15.953Z"
   },
   {
    "duration": 34,
    "start_time": "2023-01-12T11:09:12.580Z"
   },
   {
    "duration": 33,
    "start_time": "2023-01-12T11:10:00.749Z"
   },
   {
    "duration": 27,
    "start_time": "2023-01-12T11:10:51.976Z"
   },
   {
    "duration": 25,
    "start_time": "2023-01-12T11:12:07.704Z"
   },
   {
    "duration": 52,
    "start_time": "2023-01-12T11:24:28.843Z"
   },
   {
    "duration": 45,
    "start_time": "2023-01-12T11:25:54.224Z"
   },
   {
    "duration": 35,
    "start_time": "2023-01-12T11:26:43.200Z"
   },
   {
    "duration": 35,
    "start_time": "2023-01-12T11:28:23.021Z"
   },
   {
    "duration": 31,
    "start_time": "2023-01-12T11:28:48.635Z"
   },
   {
    "duration": 38,
    "start_time": "2023-01-12T11:31:41.086Z"
   },
   {
    "duration": 33,
    "start_time": "2023-01-12T11:32:08.232Z"
   },
   {
    "duration": 5,
    "start_time": "2023-01-12T11:32:17.203Z"
   },
   {
    "duration": 89,
    "start_time": "2023-01-12T11:32:17.210Z"
   },
   {
    "duration": 9,
    "start_time": "2023-01-12T11:32:17.301Z"
   },
   {
    "duration": 13,
    "start_time": "2023-01-12T11:32:17.312Z"
   },
   {
    "duration": 11,
    "start_time": "2023-01-12T11:32:17.327Z"
   },
   {
    "duration": 18,
    "start_time": "2023-01-12T11:32:17.340Z"
   },
   {
    "duration": 14,
    "start_time": "2023-01-12T11:32:17.360Z"
   },
   {
    "duration": 13,
    "start_time": "2023-01-12T11:32:17.375Z"
   },
   {
    "duration": 16,
    "start_time": "2023-01-12T11:32:17.390Z"
   },
   {
    "duration": 30,
    "start_time": "2023-01-12T11:32:17.408Z"
   },
   {
    "duration": 25,
    "start_time": "2023-01-12T11:32:17.441Z"
   },
   {
    "duration": 6,
    "start_time": "2023-01-12T11:32:17.467Z"
   },
   {
    "duration": 11,
    "start_time": "2023-01-12T11:32:17.475Z"
   },
   {
    "duration": 7,
    "start_time": "2023-01-12T11:32:17.488Z"
   },
   {
    "duration": 49,
    "start_time": "2023-01-12T11:32:17.497Z"
   },
   {
    "duration": 14,
    "start_time": "2023-01-12T11:32:17.547Z"
   },
   {
    "duration": 16,
    "start_time": "2023-01-12T11:32:17.562Z"
   },
   {
    "duration": 225,
    "start_time": "2023-01-12T11:32:17.579Z"
   },
   {
    "duration": 50,
    "start_time": "2023-01-12T11:32:17.806Z"
   },
   {
    "duration": 306,
    "start_time": "2023-01-12T11:32:17.858Z"
   },
   {
    "duration": 223,
    "start_time": "2023-01-12T11:32:18.165Z"
   },
   {
    "duration": 226,
    "start_time": "2023-01-12T11:32:18.390Z"
   },
   {
    "duration": 369,
    "start_time": "2023-01-12T11:32:18.618Z"
   },
   {
    "duration": 4,
    "start_time": "2023-01-12T11:32:18.988Z"
   },
   {
    "duration": 296,
    "start_time": "2023-01-12T11:32:18.993Z"
   },
   {
    "duration": 4,
    "start_time": "2023-01-12T11:32:19.291Z"
   },
   {
    "duration": 467,
    "start_time": "2023-01-12T11:32:19.297Z"
   },
   {
    "duration": 14,
    "start_time": "2023-01-12T11:32:19.765Z"
   },
   {
    "duration": 166,
    "start_time": "2023-01-12T11:32:19.784Z"
   },
   {
    "duration": 7,
    "start_time": "2023-01-12T11:32:19.952Z"
   },
   {
    "duration": 151,
    "start_time": "2023-01-12T11:32:19.961Z"
   },
   {
    "duration": 6,
    "start_time": "2023-01-12T11:32:20.114Z"
   },
   {
    "duration": 239,
    "start_time": "2023-01-12T11:32:20.122Z"
   },
   {
    "duration": 174,
    "start_time": "2023-01-12T11:32:20.363Z"
   },
   {
    "duration": 11,
    "start_time": "2023-01-12T11:32:20.539Z"
   },
   {
    "duration": 27,
    "start_time": "2023-01-12T11:32:20.552Z"
   },
   {
    "duration": 51,
    "start_time": "2023-01-12T11:32:20.581Z"
   },
   {
    "duration": 69,
    "start_time": "2023-01-12T11:32:20.634Z"
   },
   {
    "duration": 39,
    "start_time": "2023-01-12T11:32:20.705Z"
   },
   {
    "duration": 28,
    "start_time": "2023-01-12T11:34:43.188Z"
   },
   {
    "duration": 68,
    "start_time": "2023-01-12T11:42:10.288Z"
   },
   {
    "duration": 23,
    "start_time": "2023-01-12T11:42:20.276Z"
   },
   {
    "duration": 120,
    "start_time": "2023-01-12T12:06:31.371Z"
   },
   {
    "duration": 139,
    "start_time": "2023-01-12T12:07:01.614Z"
   },
   {
    "duration": 143,
    "start_time": "2023-01-12T12:07:25.617Z"
   },
   {
    "duration": 154,
    "start_time": "2023-01-12T12:07:41.188Z"
   },
   {
    "duration": 71,
    "start_time": "2023-01-12T12:07:56.549Z"
   },
   {
    "duration": 154,
    "start_time": "2023-01-12T12:08:01.932Z"
   },
   {
    "duration": 140,
    "start_time": "2023-01-12T12:08:21.580Z"
   },
   {
    "duration": 172,
    "start_time": "2023-01-12T12:09:15.587Z"
   },
   {
    "duration": 153,
    "start_time": "2023-01-12T12:11:46.794Z"
   },
   {
    "duration": 3,
    "start_time": "2023-01-12T12:12:03.906Z"
   },
   {
    "duration": 134,
    "start_time": "2023-01-12T12:12:03.912Z"
   },
   {
    "duration": 11,
    "start_time": "2023-01-12T12:12:04.048Z"
   },
   {
    "duration": 28,
    "start_time": "2023-01-12T12:12:04.061Z"
   },
   {
    "duration": 53,
    "start_time": "2023-01-12T12:12:04.092Z"
   },
   {
    "duration": 34,
    "start_time": "2023-01-12T12:12:04.147Z"
   },
   {
    "duration": 34,
    "start_time": "2023-01-12T12:12:04.182Z"
   },
   {
    "duration": 31,
    "start_time": "2023-01-12T12:12:04.219Z"
   },
   {
    "duration": 31,
    "start_time": "2023-01-12T12:12:04.252Z"
   },
   {
    "duration": 29,
    "start_time": "2023-01-12T12:12:04.285Z"
   },
   {
    "duration": 51,
    "start_time": "2023-01-12T12:12:04.319Z"
   },
   {
    "duration": 7,
    "start_time": "2023-01-12T12:12:04.372Z"
   },
   {
    "duration": 26,
    "start_time": "2023-01-12T12:12:04.381Z"
   },
   {
    "duration": 43,
    "start_time": "2023-01-12T12:12:04.409Z"
   },
   {
    "duration": 37,
    "start_time": "2023-01-12T12:12:04.455Z"
   },
   {
    "duration": 38,
    "start_time": "2023-01-12T12:12:04.494Z"
   },
   {
    "duration": 51,
    "start_time": "2023-01-12T12:12:04.534Z"
   },
   {
    "duration": 229,
    "start_time": "2023-01-12T12:12:04.587Z"
   },
   {
    "duration": 127,
    "start_time": "2023-01-12T12:12:04.818Z"
   },
   {
    "duration": 305,
    "start_time": "2023-01-12T12:12:04.947Z"
   },
   {
    "duration": 256,
    "start_time": "2023-01-12T12:12:05.254Z"
   },
   {
    "duration": 230,
    "start_time": "2023-01-12T12:12:05.512Z"
   },
   {
    "duration": 335,
    "start_time": "2023-01-12T12:12:05.744Z"
   },
   {
    "duration": 2,
    "start_time": "2023-01-12T12:12:06.081Z"
   },
   {
    "duration": 255,
    "start_time": "2023-01-12T12:12:06.085Z"
   },
   {
    "duration": 2,
    "start_time": "2023-01-12T12:12:06.342Z"
   },
   {
    "duration": 367,
    "start_time": "2023-01-12T12:12:06.346Z"
   },
   {
    "duration": 12,
    "start_time": "2023-01-12T12:12:06.714Z"
   },
   {
    "duration": 140,
    "start_time": "2023-01-12T12:12:06.740Z"
   },
   {
    "duration": 5,
    "start_time": "2023-01-12T12:12:06.882Z"
   },
   {
    "duration": 165,
    "start_time": "2023-01-12T12:12:06.888Z"
   },
   {
    "duration": 156,
    "start_time": "2023-01-12T12:12:07.054Z"
   },
   {
    "duration": 0,
    "start_time": "2023-01-12T12:12:07.211Z"
   },
   {
    "duration": 0,
    "start_time": "2023-01-12T12:12:07.213Z"
   },
   {
    "duration": 0,
    "start_time": "2023-01-12T12:12:07.214Z"
   },
   {
    "duration": 0,
    "start_time": "2023-01-12T12:12:07.215Z"
   },
   {
    "duration": 0,
    "start_time": "2023-01-12T12:12:07.216Z"
   },
   {
    "duration": 0,
    "start_time": "2023-01-12T12:12:07.217Z"
   },
   {
    "duration": 0,
    "start_time": "2023-01-12T12:12:07.218Z"
   },
   {
    "duration": 0,
    "start_time": "2023-01-12T12:12:07.218Z"
   },
   {
    "duration": 148,
    "start_time": "2023-01-12T12:13:50.111Z"
   },
   {
    "duration": 11,
    "start_time": "2023-01-12T12:14:24.080Z"
   },
   {
    "duration": 120,
    "start_time": "2023-01-12T12:14:30.425Z"
   },
   {
    "duration": 118,
    "start_time": "2023-01-12T12:15:44.672Z"
   },
   {
    "duration": 218,
    "start_time": "2023-01-12T12:17:02.090Z"
   },
   {
    "duration": 78,
    "start_time": "2023-01-12T12:17:26.932Z"
   },
   {
    "duration": 144,
    "start_time": "2023-01-12T12:17:36.842Z"
   },
   {
    "duration": 140,
    "start_time": "2023-01-12T12:18:01.963Z"
   },
   {
    "duration": 144,
    "start_time": "2023-01-12T12:18:16.995Z"
   },
   {
    "duration": 77,
    "start_time": "2023-01-12T12:18:33.283Z"
   },
   {
    "duration": 151,
    "start_time": "2023-01-12T12:18:42.404Z"
   },
   {
    "duration": 1177,
    "start_time": "2023-01-12T12:19:38.937Z"
   },
   {
    "duration": 80,
    "start_time": "2023-01-12T12:19:40.116Z"
   },
   {
    "duration": 13,
    "start_time": "2023-01-12T12:19:40.198Z"
   },
   {
    "duration": 9,
    "start_time": "2023-01-12T12:19:40.213Z"
   },
   {
    "duration": 11,
    "start_time": "2023-01-12T12:19:40.223Z"
   },
   {
    "duration": 14,
    "start_time": "2023-01-12T12:19:40.236Z"
   },
   {
    "duration": 14,
    "start_time": "2023-01-12T12:19:40.251Z"
   },
   {
    "duration": 17,
    "start_time": "2023-01-12T12:19:40.267Z"
   },
   {
    "duration": 18,
    "start_time": "2023-01-12T12:19:40.286Z"
   },
   {
    "duration": 19,
    "start_time": "2023-01-12T12:19:40.307Z"
   },
   {
    "duration": 31,
    "start_time": "2023-01-12T12:19:40.338Z"
   },
   {
    "duration": 6,
    "start_time": "2023-01-12T12:19:40.371Z"
   },
   {
    "duration": 11,
    "start_time": "2023-01-12T12:19:40.379Z"
   },
   {
    "duration": 13,
    "start_time": "2023-01-12T12:19:40.391Z"
   },
   {
    "duration": 48,
    "start_time": "2023-01-12T12:19:40.406Z"
   },
   {
    "duration": 14,
    "start_time": "2023-01-12T12:19:40.456Z"
   },
   {
    "duration": 21,
    "start_time": "2023-01-12T12:19:40.472Z"
   },
   {
    "duration": 244,
    "start_time": "2023-01-12T12:19:40.495Z"
   },
   {
    "duration": 21,
    "start_time": "2023-01-12T12:19:40.741Z"
   },
   {
    "duration": 320,
    "start_time": "2023-01-12T12:19:40.764Z"
   },
   {
    "duration": 320,
    "start_time": "2023-01-12T12:19:41.086Z"
   },
   {
    "duration": 229,
    "start_time": "2023-01-12T12:19:41.408Z"
   },
   {
    "duration": 328,
    "start_time": "2023-01-12T12:19:41.639Z"
   },
   {
    "duration": 2,
    "start_time": "2023-01-12T12:19:41.969Z"
   },
   {
    "duration": 255,
    "start_time": "2023-01-12T12:19:41.973Z"
   },
   {
    "duration": 3,
    "start_time": "2023-01-12T12:19:42.230Z"
   },
   {
    "duration": 371,
    "start_time": "2023-01-12T12:19:42.237Z"
   },
   {
    "duration": 13,
    "start_time": "2023-01-12T12:19:42.612Z"
   },
   {
    "duration": 141,
    "start_time": "2023-01-12T12:19:42.638Z"
   },
   {
    "duration": 5,
    "start_time": "2023-01-12T12:19:42.781Z"
   },
   {
    "duration": 162,
    "start_time": "2023-01-12T12:19:42.787Z"
   },
   {
    "duration": 241,
    "start_time": "2023-01-12T12:19:42.951Z"
   },
   {
    "duration": 5,
    "start_time": "2023-01-12T12:19:43.194Z"
   },
   {
    "duration": 247,
    "start_time": "2023-01-12T12:19:43.201Z"
   },
   {
    "duration": 183,
    "start_time": "2023-01-12T12:19:43.450Z"
   },
   {
    "duration": 12,
    "start_time": "2023-01-12T12:19:43.635Z"
   },
   {
    "duration": 8,
    "start_time": "2023-01-12T12:19:43.649Z"
   },
   {
    "duration": 22,
    "start_time": "2023-01-12T12:19:43.659Z"
   },
   {
    "duration": 31,
    "start_time": "2023-01-12T12:19:43.683Z"
   },
   {
    "duration": 15,
    "start_time": "2023-01-12T12:19:43.737Z"
   },
   {
    "duration": 4,
    "start_time": "2023-01-12T13:02:28.691Z"
   },
   {
    "duration": 1404,
    "start_time": "2023-01-12T13:04:10.888Z"
   },
   {
    "duration": 1319,
    "start_time": "2023-01-12T13:05:13.579Z"
   },
   {
    "duration": 197,
    "start_time": "2023-01-12T13:10:12.610Z"
   },
   {
    "duration": 3,
    "start_time": "2023-01-12T13:12:04.861Z"
   },
   {
    "duration": 5,
    "start_time": "2023-01-12T13:12:22.573Z"
   },
   {
    "duration": 90,
    "start_time": "2023-01-12T13:12:22.583Z"
   },
   {
    "duration": 9,
    "start_time": "2023-01-12T13:12:22.675Z"
   },
   {
    "duration": 15,
    "start_time": "2023-01-12T13:12:22.686Z"
   },
   {
    "duration": 20,
    "start_time": "2023-01-12T13:12:22.703Z"
   },
   {
    "duration": 18,
    "start_time": "2023-01-12T13:12:22.726Z"
   },
   {
    "duration": 19,
    "start_time": "2023-01-12T13:12:22.754Z"
   },
   {
    "duration": 14,
    "start_time": "2023-01-12T13:12:22.775Z"
   },
   {
    "duration": 16,
    "start_time": "2023-01-12T13:12:22.790Z"
   },
   {
    "duration": 22,
    "start_time": "2023-01-12T13:12:22.808Z"
   },
   {
    "duration": 28,
    "start_time": "2023-01-12T13:12:22.831Z"
   },
   {
    "duration": 7,
    "start_time": "2023-01-12T13:12:22.860Z"
   },
   {
    "duration": 9,
    "start_time": "2023-01-12T13:12:22.869Z"
   },
   {
    "duration": 5,
    "start_time": "2023-01-12T13:12:22.880Z"
   },
   {
    "duration": 17,
    "start_time": "2023-01-12T13:12:22.888Z"
   },
   {
    "duration": 30,
    "start_time": "2023-01-12T13:12:22.907Z"
   },
   {
    "duration": 24,
    "start_time": "2023-01-12T13:12:22.941Z"
   },
   {
    "duration": 216,
    "start_time": "2023-01-12T13:12:22.967Z"
   },
   {
    "duration": 19,
    "start_time": "2023-01-12T13:12:23.185Z"
   },
   {
    "duration": 320,
    "start_time": "2023-01-12T13:12:23.205Z"
   },
   {
    "duration": 230,
    "start_time": "2023-01-12T13:12:23.527Z"
   },
   {
    "duration": 227,
    "start_time": "2023-01-12T13:12:23.758Z"
   },
   {
    "duration": 334,
    "start_time": "2023-01-12T13:12:23.987Z"
   },
   {
    "duration": 2,
    "start_time": "2023-01-12T13:12:24.323Z"
   },
   {
    "duration": 254,
    "start_time": "2023-01-12T13:12:24.327Z"
   },
   {
    "duration": 3,
    "start_time": "2023-01-12T13:12:24.583Z"
   },
   {
    "duration": 383,
    "start_time": "2023-01-12T13:12:24.587Z"
   },
   {
    "duration": 16,
    "start_time": "2023-01-12T13:12:24.972Z"
   },
   {
    "duration": 178,
    "start_time": "2023-01-12T13:12:24.990Z"
   },
   {
    "duration": 5,
    "start_time": "2023-01-12T13:12:25.170Z"
   },
   {
    "duration": 176,
    "start_time": "2023-01-12T13:12:25.177Z"
   },
   {
    "duration": 6,
    "start_time": "2023-01-12T13:12:25.355Z"
   },
   {
    "duration": 9,
    "start_time": "2023-01-12T13:12:25.363Z"
   },
   {
    "duration": 11,
    "start_time": "2023-01-12T13:12:25.374Z"
   },
   {
    "duration": 181,
    "start_time": "2023-01-12T13:12:25.386Z"
   },
   {
    "duration": 10,
    "start_time": "2023-01-12T13:12:25.569Z"
   },
   {
    "duration": 2,
    "start_time": "2023-01-12T13:12:25.581Z"
   },
   {
    "duration": 15,
    "start_time": "2023-01-12T13:12:25.585Z"
   },
   {
    "duration": 60,
    "start_time": "2023-01-12T13:12:25.602Z"
   },
   {
    "duration": 12,
    "start_time": "2023-01-12T13:12:25.664Z"
   },
   {
    "duration": 270,
    "start_time": "2023-01-12T13:42:32.205Z"
   },
   {
    "duration": 333,
    "start_time": "2023-01-12T13:44:00.526Z"
   },
   {
    "duration": 252,
    "start_time": "2023-01-12T13:51:24.430Z"
   },
   {
    "duration": 4,
    "start_time": "2023-01-12T13:51:36.397Z"
   },
   {
    "duration": 84,
    "start_time": "2023-01-12T13:51:36.403Z"
   },
   {
    "duration": 9,
    "start_time": "2023-01-12T13:51:36.489Z"
   },
   {
    "duration": 11,
    "start_time": "2023-01-12T13:51:36.500Z"
   },
   {
    "duration": 17,
    "start_time": "2023-01-12T13:51:36.514Z"
   },
   {
    "duration": 18,
    "start_time": "2023-01-12T13:51:36.533Z"
   },
   {
    "duration": 13,
    "start_time": "2023-01-12T13:51:36.553Z"
   },
   {
    "duration": 13,
    "start_time": "2023-01-12T13:51:36.567Z"
   },
   {
    "duration": 12,
    "start_time": "2023-01-12T13:51:36.581Z"
   },
   {
    "duration": 11,
    "start_time": "2023-01-12T13:51:36.594Z"
   },
   {
    "duration": 45,
    "start_time": "2023-01-12T13:51:36.607Z"
   },
   {
    "duration": 6,
    "start_time": "2023-01-12T13:51:36.653Z"
   },
   {
    "duration": 13,
    "start_time": "2023-01-12T13:51:36.661Z"
   },
   {
    "duration": 5,
    "start_time": "2023-01-12T13:51:36.677Z"
   },
   {
    "duration": 20,
    "start_time": "2023-01-12T13:51:36.684Z"
   },
   {
    "duration": 32,
    "start_time": "2023-01-12T13:51:36.706Z"
   },
   {
    "duration": 16,
    "start_time": "2023-01-12T13:51:36.741Z"
   },
   {
    "duration": 214,
    "start_time": "2023-01-12T13:51:36.759Z"
   },
   {
    "duration": 19,
    "start_time": "2023-01-12T13:51:36.976Z"
   },
   {
    "duration": 308,
    "start_time": "2023-01-12T13:51:36.997Z"
   },
   {
    "duration": 230,
    "start_time": "2023-01-12T13:51:37.307Z"
   },
   {
    "duration": 225,
    "start_time": "2023-01-12T13:51:37.539Z"
   },
   {
    "duration": 312,
    "start_time": "2023-01-12T13:51:37.766Z"
   },
   {
    "duration": 3,
    "start_time": "2023-01-12T13:51:38.080Z"
   },
   {
    "duration": 241,
    "start_time": "2023-01-12T13:51:38.085Z"
   },
   {
    "duration": 11,
    "start_time": "2023-01-12T13:51:38.327Z"
   },
   {
    "duration": 343,
    "start_time": "2023-01-12T13:51:38.340Z"
   },
   {
    "duration": 12,
    "start_time": "2023-01-12T13:51:38.684Z"
   },
   {
    "duration": 142,
    "start_time": "2023-01-12T13:51:38.698Z"
   },
   {
    "duration": 6,
    "start_time": "2023-01-12T13:51:38.842Z"
   },
   {
    "duration": 170,
    "start_time": "2023-01-12T13:51:38.851Z"
   },
   {
    "duration": 16,
    "start_time": "2023-01-12T13:51:39.023Z"
   },
   {
    "duration": 15,
    "start_time": "2023-01-12T13:51:39.042Z"
   },
   {
    "duration": 19,
    "start_time": "2023-01-12T13:51:39.059Z"
   },
   {
    "duration": 282,
    "start_time": "2023-01-12T13:51:39.080Z"
   },
   {
    "duration": 11,
    "start_time": "2023-01-12T13:51:39.364Z"
   },
   {
    "duration": 6,
    "start_time": "2023-01-12T13:51:39.376Z"
   },
   {
    "duration": 12,
    "start_time": "2023-01-12T13:51:39.384Z"
   },
   {
    "duration": 49,
    "start_time": "2023-01-12T13:51:39.398Z"
   },
   {
    "duration": 14,
    "start_time": "2023-01-12T13:51:39.448Z"
   },
   {
    "duration": 1270,
    "start_time": "2023-01-13T09:07:04.912Z"
   },
   {
    "duration": 194,
    "start_time": "2023-01-13T09:07:06.184Z"
   },
   {
    "duration": 12,
    "start_time": "2023-01-13T09:07:06.380Z"
   },
   {
    "duration": 7,
    "start_time": "2023-01-13T09:07:06.394Z"
   },
   {
    "duration": 10,
    "start_time": "2023-01-13T09:07:06.402Z"
   },
   {
    "duration": 15,
    "start_time": "2023-01-13T09:07:06.413Z"
   },
   {
    "duration": 11,
    "start_time": "2023-01-13T09:07:06.430Z"
   },
   {
    "duration": 11,
    "start_time": "2023-01-13T09:07:06.442Z"
   },
   {
    "duration": 10,
    "start_time": "2023-01-13T09:07:06.454Z"
   },
   {
    "duration": 11,
    "start_time": "2023-01-13T09:07:06.466Z"
   },
   {
    "duration": 19,
    "start_time": "2023-01-13T09:07:06.479Z"
   },
   {
    "duration": 5,
    "start_time": "2023-01-13T09:07:06.521Z"
   },
   {
    "duration": 11,
    "start_time": "2023-01-13T09:07:06.527Z"
   },
   {
    "duration": 5,
    "start_time": "2023-01-13T09:07:06.539Z"
   },
   {
    "duration": 15,
    "start_time": "2023-01-13T09:07:06.545Z"
   },
   {
    "duration": 10,
    "start_time": "2023-01-13T09:07:06.562Z"
   },
   {
    "duration": 14,
    "start_time": "2023-01-13T09:07:06.574Z"
   },
   {
    "duration": 213,
    "start_time": "2023-01-13T09:07:06.589Z"
   },
   {
    "duration": 25,
    "start_time": "2023-01-13T09:07:06.803Z"
   },
   {
    "duration": 262,
    "start_time": "2023-01-13T09:07:06.829Z"
   },
   {
    "duration": 274,
    "start_time": "2023-01-13T09:07:07.093Z"
   },
   {
    "duration": 192,
    "start_time": "2023-01-13T09:07:07.369Z"
   },
   {
    "duration": 318,
    "start_time": "2023-01-13T09:07:07.563Z"
   },
   {
    "duration": 2,
    "start_time": "2023-01-13T09:07:07.883Z"
   },
   {
    "duration": 233,
    "start_time": "2023-01-13T09:07:07.886Z"
   },
   {
    "duration": 2,
    "start_time": "2023-01-13T09:07:08.121Z"
   },
   {
    "duration": 325,
    "start_time": "2023-01-13T09:07:08.125Z"
   },
   {
    "duration": 10,
    "start_time": "2023-01-13T09:07:08.453Z"
   },
   {
    "duration": 130,
    "start_time": "2023-01-13T09:07:08.464Z"
   },
   {
    "duration": 6,
    "start_time": "2023-01-13T09:07:08.596Z"
   },
   {
    "duration": 199,
    "start_time": "2023-01-13T09:07:08.603Z"
   },
   {
    "duration": 5,
    "start_time": "2023-01-13T09:07:08.804Z"
   },
   {
    "duration": 4,
    "start_time": "2023-01-13T09:07:08.821Z"
   },
   {
    "duration": 10,
    "start_time": "2023-01-13T09:07:08.826Z"
   },
   {
    "duration": 164,
    "start_time": "2023-01-13T09:07:08.837Z"
   },
   {
    "duration": 20,
    "start_time": "2023-01-13T09:07:09.003Z"
   },
   {
    "duration": 2,
    "start_time": "2023-01-13T09:07:09.024Z"
   },
   {
    "duration": 12,
    "start_time": "2023-01-13T09:07:09.027Z"
   },
   {
    "duration": 104,
    "start_time": "2023-01-13T09:07:09.040Z"
   },
   {
    "duration": 0,
    "start_time": "2023-01-13T09:07:09.145Z"
   },
   {
    "duration": 7,
    "start_time": "2023-01-13T09:26:45.441Z"
   },
   {
    "duration": 6,
    "start_time": "2023-01-13T09:28:23.720Z"
   },
   {
    "duration": 4,
    "start_time": "2023-01-13T09:29:24.493Z"
   },
   {
    "duration": 14,
    "start_time": "2023-01-13T09:29:32.976Z"
   },
   {
    "duration": 7,
    "start_time": "2023-01-13T09:29:40.111Z"
   },
   {
    "duration": 13,
    "start_time": "2023-01-13T09:53:05.097Z"
   },
   {
    "duration": 47,
    "start_time": "2023-01-13T10:12:15.638Z"
   },
   {
    "duration": 1249,
    "start_time": "2023-01-13T10:12:39.422Z"
   },
   {
    "duration": 188,
    "start_time": "2023-01-13T10:12:40.674Z"
   },
   {
    "duration": 10,
    "start_time": "2023-01-13T10:12:40.864Z"
   },
   {
    "duration": 27,
    "start_time": "2023-01-13T10:12:40.876Z"
   },
   {
    "duration": 16,
    "start_time": "2023-01-13T10:12:40.905Z"
   },
   {
    "duration": 21,
    "start_time": "2023-01-13T10:12:40.922Z"
   },
   {
    "duration": 18,
    "start_time": "2023-01-13T10:12:40.945Z"
   },
   {
    "duration": 12,
    "start_time": "2023-01-13T10:12:40.964Z"
   },
   {
    "duration": 31,
    "start_time": "2023-01-13T10:12:40.978Z"
   },
   {
    "duration": 26,
    "start_time": "2023-01-13T10:12:41.011Z"
   },
   {
    "duration": 31,
    "start_time": "2023-01-13T10:12:41.039Z"
   },
   {
    "duration": 5,
    "start_time": "2023-01-13T10:12:41.072Z"
   },
   {
    "duration": 17,
    "start_time": "2023-01-13T10:12:41.079Z"
   },
   {
    "duration": 15,
    "start_time": "2023-01-13T10:12:41.099Z"
   },
   {
    "duration": 15,
    "start_time": "2023-01-13T10:12:41.116Z"
   },
   {
    "duration": 10,
    "start_time": "2023-01-13T10:12:41.133Z"
   },
   {
    "duration": 15,
    "start_time": "2023-01-13T10:12:41.144Z"
   },
   {
    "duration": 210,
    "start_time": "2023-01-13T10:12:41.161Z"
   },
   {
    "duration": 18,
    "start_time": "2023-01-13T10:12:41.372Z"
   },
   {
    "duration": 286,
    "start_time": "2023-01-13T10:12:41.392Z"
   },
   {
    "duration": 266,
    "start_time": "2023-01-13T10:12:41.680Z"
   },
   {
    "duration": 203,
    "start_time": "2023-01-13T10:12:41.948Z"
   },
   {
    "duration": 327,
    "start_time": "2023-01-13T10:12:42.153Z"
   },
   {
    "duration": 3,
    "start_time": "2023-01-13T10:12:42.482Z"
   },
   {
    "duration": 231,
    "start_time": "2023-01-13T10:12:42.486Z"
   },
   {
    "duration": 4,
    "start_time": "2023-01-13T10:12:42.718Z"
   },
   {
    "duration": 331,
    "start_time": "2023-01-13T10:12:42.723Z"
   },
   {
    "duration": 11,
    "start_time": "2023-01-13T10:12:43.056Z"
   },
   {
    "duration": 136,
    "start_time": "2023-01-13T10:12:43.068Z"
   },
   {
    "duration": 5,
    "start_time": "2023-01-13T10:12:43.206Z"
   },
   {
    "duration": 135,
    "start_time": "2023-01-13T10:12:43.212Z"
   },
   {
    "duration": 5,
    "start_time": "2023-01-13T10:12:43.349Z"
   },
   {
    "duration": 8,
    "start_time": "2023-01-13T10:12:43.355Z"
   },
   {
    "duration": 13,
    "start_time": "2023-01-13T10:12:43.364Z"
   },
   {
    "duration": 246,
    "start_time": "2023-01-13T10:12:43.378Z"
   },
   {
    "duration": 9,
    "start_time": "2023-01-13T10:12:43.626Z"
   },
   {
    "duration": 10,
    "start_time": "2023-01-13T10:12:43.637Z"
   },
   {
    "duration": 16,
    "start_time": "2023-01-13T10:12:43.649Z"
   },
   {
    "duration": 25,
    "start_time": "2023-01-13T10:12:43.667Z"
   },
   {
    "duration": 35,
    "start_time": "2023-01-13T10:12:43.694Z"
   },
   {
    "duration": 3,
    "start_time": "2023-01-13T10:34:24.982Z"
   },
   {
    "duration": 82,
    "start_time": "2023-01-13T10:34:24.987Z"
   },
   {
    "duration": 7,
    "start_time": "2023-01-13T10:34:25.070Z"
   },
   {
    "duration": 13,
    "start_time": "2023-01-13T10:34:25.079Z"
   },
   {
    "duration": 11,
    "start_time": "2023-01-13T10:34:25.094Z"
   },
   {
    "duration": 33,
    "start_time": "2023-01-13T10:34:25.106Z"
   },
   {
    "duration": 26,
    "start_time": "2023-01-13T10:34:25.141Z"
   },
   {
    "duration": 34,
    "start_time": "2023-01-13T10:34:25.169Z"
   },
   {
    "duration": 17,
    "start_time": "2023-01-13T10:34:25.205Z"
   },
   {
    "duration": 13,
    "start_time": "2023-01-13T10:34:25.224Z"
   },
   {
    "duration": 39,
    "start_time": "2023-01-13T10:34:25.238Z"
   },
   {
    "duration": 6,
    "start_time": "2023-01-13T10:34:25.281Z"
   },
   {
    "duration": 16,
    "start_time": "2023-01-13T10:34:25.288Z"
   },
   {
    "duration": 7,
    "start_time": "2023-01-13T10:34:25.321Z"
   },
   {
    "duration": 26,
    "start_time": "2023-01-13T10:34:25.329Z"
   },
   {
    "duration": 16,
    "start_time": "2023-01-13T10:34:25.357Z"
   },
   {
    "duration": 22,
    "start_time": "2023-01-13T10:34:25.376Z"
   },
   {
    "duration": 199,
    "start_time": "2023-01-13T10:34:25.400Z"
   },
   {
    "duration": 27,
    "start_time": "2023-01-13T10:34:25.601Z"
   },
   {
    "duration": 265,
    "start_time": "2023-01-13T10:34:25.630Z"
   },
   {
    "duration": 198,
    "start_time": "2023-01-13T10:34:25.897Z"
   },
   {
    "duration": 196,
    "start_time": "2023-01-13T10:34:26.097Z"
   },
   {
    "duration": 338,
    "start_time": "2023-01-13T10:34:26.294Z"
   },
   {
    "duration": 3,
    "start_time": "2023-01-13T10:34:26.635Z"
   },
   {
    "duration": 234,
    "start_time": "2023-01-13T10:34:26.641Z"
   },
   {
    "duration": 3,
    "start_time": "2023-01-13T10:34:26.877Z"
   },
   {
    "duration": 332,
    "start_time": "2023-01-13T10:34:26.881Z"
   },
   {
    "duration": 14,
    "start_time": "2023-01-13T10:34:27.214Z"
   },
   {
    "duration": 126,
    "start_time": "2023-01-13T10:34:27.230Z"
   },
   {
    "duration": 6,
    "start_time": "2023-01-13T10:34:27.358Z"
   },
   {
    "duration": 140,
    "start_time": "2023-01-13T10:34:27.366Z"
   },
   {
    "duration": 5,
    "start_time": "2023-01-13T10:34:27.508Z"
   },
   {
    "duration": 4,
    "start_time": "2023-01-13T10:34:27.521Z"
   },
   {
    "duration": 9,
    "start_time": "2023-01-13T10:34:27.527Z"
   },
   {
    "duration": 176,
    "start_time": "2023-01-13T10:34:27.537Z"
   },
   {
    "duration": 9,
    "start_time": "2023-01-13T10:34:27.721Z"
   },
   {
    "duration": 6,
    "start_time": "2023-01-13T10:34:27.731Z"
   },
   {
    "duration": 12,
    "start_time": "2023-01-13T10:34:27.738Z"
   },
   {
    "duration": 25,
    "start_time": "2023-01-13T10:34:27.752Z"
   },
   {
    "duration": 12,
    "start_time": "2023-01-13T10:34:27.779Z"
   },
   {
    "duration": 1358,
    "start_time": "2023-01-13T13:19:18.200Z"
   },
   {
    "duration": 255,
    "start_time": "2023-01-13T13:19:19.561Z"
   },
   {
    "duration": 41,
    "start_time": "2023-01-13T13:19:19.818Z"
   },
   {
    "duration": 13,
    "start_time": "2023-01-13T13:19:19.862Z"
   },
   {
    "duration": 22,
    "start_time": "2023-01-13T13:19:19.877Z"
   },
   {
    "duration": 33,
    "start_time": "2023-01-13T13:19:19.901Z"
   },
   {
    "duration": 28,
    "start_time": "2023-01-13T13:19:19.940Z"
   },
   {
    "duration": 31,
    "start_time": "2023-01-13T13:19:19.969Z"
   },
   {
    "duration": 16,
    "start_time": "2023-01-13T13:19:20.002Z"
   },
   {
    "duration": 40,
    "start_time": "2023-01-13T13:19:20.024Z"
   },
   {
    "duration": 36,
    "start_time": "2023-01-13T13:19:20.066Z"
   },
   {
    "duration": 52,
    "start_time": "2023-01-13T13:19:20.104Z"
   },
   {
    "duration": 26,
    "start_time": "2023-01-13T13:19:20.158Z"
   },
   {
    "duration": 12,
    "start_time": "2023-01-13T13:19:20.185Z"
   },
   {
    "duration": 70,
    "start_time": "2023-01-13T13:19:20.199Z"
   },
   {
    "duration": 24,
    "start_time": "2023-01-13T13:19:20.271Z"
   },
   {
    "duration": 40,
    "start_time": "2023-01-13T13:19:20.297Z"
   },
   {
    "duration": 332,
    "start_time": "2023-01-13T13:19:20.343Z"
   },
   {
    "duration": 25,
    "start_time": "2023-01-13T13:19:20.677Z"
   },
   {
    "duration": 350,
    "start_time": "2023-01-13T13:19:20.704Z"
   },
   {
    "duration": 329,
    "start_time": "2023-01-13T13:19:21.059Z"
   },
   {
    "duration": 275,
    "start_time": "2023-01-13T13:19:21.391Z"
   },
   {
    "duration": 410,
    "start_time": "2023-01-13T13:19:21.669Z"
   },
   {
    "duration": 3,
    "start_time": "2023-01-13T13:19:22.081Z"
   },
   {
    "duration": 309,
    "start_time": "2023-01-13T13:19:22.086Z"
   },
   {
    "duration": 3,
    "start_time": "2023-01-13T13:19:22.396Z"
   },
   {
    "duration": 408,
    "start_time": "2023-01-13T13:19:22.400Z"
   },
   {
    "duration": 21,
    "start_time": "2023-01-13T13:19:22.821Z"
   },
   {
    "duration": 155,
    "start_time": "2023-01-13T13:19:22.844Z"
   },
   {
    "duration": 6,
    "start_time": "2023-01-13T13:19:23.000Z"
   },
   {
    "duration": 183,
    "start_time": "2023-01-13T13:19:23.008Z"
   },
   {
    "duration": 5,
    "start_time": "2023-01-13T13:19:23.193Z"
   },
   {
    "duration": 13,
    "start_time": "2023-01-13T13:19:23.199Z"
   },
   {
    "duration": 31,
    "start_time": "2023-01-13T13:19:23.226Z"
   },
   {
    "duration": 294,
    "start_time": "2023-01-13T13:19:23.260Z"
   },
   {
    "duration": 12,
    "start_time": "2023-01-13T13:19:23.559Z"
   },
   {
    "duration": 4,
    "start_time": "2023-01-13T13:19:23.573Z"
   },
   {
    "duration": 20,
    "start_time": "2023-01-13T13:19:23.579Z"
   },
   {
    "duration": 59,
    "start_time": "2023-01-13T13:19:23.601Z"
   },
   {
    "duration": 19,
    "start_time": "2023-01-13T13:19:23.662Z"
   }
  ],
  "kernelspec": {
   "display_name": "Python 3 (ipykernel)",
   "language": "python",
   "name": "python3"
  },
  "language_info": {
   "codemirror_mode": {
    "name": "ipython",
    "version": 3
   },
   "file_extension": ".py",
   "mimetype": "text/x-python",
   "name": "python",
   "nbconvert_exporter": "python",
   "pygments_lexer": "ipython3",
   "version": "3.9.12"
  },
  "toc": {
   "base_numbering": 1,
   "nav_menu": {},
   "number_sections": true,
   "sideBar": true,
   "skip_h1_title": true,
   "title_cell": "Table of Contents",
   "title_sidebar": "Contents",
   "toc_cell": false,
   "toc_position": {
    "height": "calc(100% - 180px)",
    "left": "10px",
    "top": "150px",
    "width": "165px"
   },
   "toc_section_display": true,
   "toc_window_display": true
  }
 },
 "nbformat": 4,
 "nbformat_minor": 2
}
